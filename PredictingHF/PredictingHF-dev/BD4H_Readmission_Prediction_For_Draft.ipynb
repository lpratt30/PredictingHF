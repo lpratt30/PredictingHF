{
 "cells": [
  {
   "cell_type": "markdown",
   "metadata": {},
   "source": [
    "# CSE6250BDH FINAL PROJECT\n",
    "## Predicting Heart Failure Readmission from Clinical Notes Using Deep Learning (CNN)\n"
   ]
  },
  {
   "cell_type": "code",
   "execution_count": 2,
   "metadata": {},
   "outputs": [
    {
     "name": "stderr",
     "output_type": "stream",
     "text": [
      "[nltk_data] Downloading package stopwords to\n",
      "[nltk_data]     C:\\Users\\ssiddiqui\\AppData\\Roaming\\nltk_data...\n",
      "[nltk_data]   Package stopwords is already up-to-date!\n",
      "[nltk_data] Downloading package punkt to\n",
      "[nltk_data]     C:\\Users\\ssiddiqui\\AppData\\Roaming\\nltk_data...\n",
      "[nltk_data]   Package punkt is already up-to-date!\n"
     ]
    }
   ],
   "source": [
    "import torch\n",
    "import pandas as pd\n",
    "import numpy as np\n",
    "import datetime\n",
    "import builtins\n",
    "import seaborn as sns\n",
    "import matplotlib.pyplot as plt\n",
    "from datetime import datetime\n",
    "from gensim.models import KeyedVectors\n",
    "import nltk\n",
    "from nltk import word_tokenize\n",
    "from nltk.tokenize import RegexpTokenizer \n",
    "from nltk.corpus import stopwords\n",
    "from string import punctuation\n",
    "import time\n",
    "import os\n",
    "import psutil\n",
    "from utility import *\n",
    "from torch.utils.data import TensorDataset, Dataset\n",
    "import torch.optim as optim\n",
    "\n",
    "from sklearn.model_selection import train_test_split\n",
    "\n",
    "\n",
    "\n",
    "nltk.download('stopwords')\n",
    "nltk.download('punkt')\n",
    "\n",
    "n_cores = psutil.cpu_count(logical=False)"
   ]
  },
  {
   "cell_type": "code",
   "execution_count": 3,
   "metadata": {},
   "outputs": [
    {
     "name": "stdout",
     "output_type": "stream",
     "text": [
      "number of cores: 8\n",
      "2.0.0+cu118\n"
     ]
    }
   ],
   "source": [
    "print(f\"number of cores: {n_cores}\")\n",
    "print(torch.__version__)"
   ]
  },
  {
   "cell_type": "code",
   "execution_count": 4,
   "metadata": {},
   "outputs": [
    {
     "name": "stdout",
     "output_type": "stream",
     "text": [
      "True\n",
      "1\n",
      "0\n",
      "<torch.cuda.device object at 0x000001AE5FCD3AD0>\n",
      "Quadro RTX 4000\n",
      "Using device: cuda\n"
     ]
    }
   ],
   "source": [
    "print(torch.cuda.is_available())\n",
    "print(torch.cuda.device_count())\n",
    "print(torch.cuda.current_device())\n",
    "print(torch.cuda.device(0))\n",
    "print(torch.cuda.get_device_name(0))\n",
    "device = torch.device('cuda' if torch.cuda.is_available() else 'cpu')\n",
    "print('Using device:', device)\n"
   ]
  },
  {
   "cell_type": "code",
   "execution_count": 5,
   "metadata": {},
   "outputs": [
    {
     "name": "stdout",
     "output_type": "stream",
     "text": [
      "Quadro RTX 4000\n",
      "Memory Usage:\n",
      "Allocated: 0.0 GB\n",
      "Cached:    0.0 GB\n"
     ]
    }
   ],
   "source": [
    "#Additional Info when using cuda\n",
    "if device.type == 'cuda':\n",
    "    print(torch.cuda.get_device_name(0))\n",
    "    print('Memory Usage:')\n",
    "    print('Allocated:', round(torch.cuda.memory_allocated(0)/1024**3,1), 'GB')\n",
    "    print('Cached:   ', round(torch.cuda.memory_reserved(0)/1024**3,1), 'GB')"
   ]
  },
  {
   "cell_type": "code",
   "execution_count": 6,
   "metadata": {},
   "outputs": [],
   "source": [
    "def custom_print(*args, **kwargs):\n",
    "    now = datetime.now()\n",
    "    dt_string = now.strftime(\"%Y/%m/%d %H:%M:%S\")\n",
    "    builtins.print(f\"[{dt_string}] -\", *args, **kwargs)\n",
    "\n",
    "# Override the built-in print function\n",
    "print = custom_print    \n",
    "\n",
    "# Restore the original print function\n",
    "#print = builtins.print\n"
   ]
  },
  {
   "cell_type": "markdown",
   "metadata": {},
   "source": [
    "# DATA PRE-PROCESSING"
   ]
  },
  {
   "cell_type": "code",
   "execution_count": 7,
   "metadata": {},
   "outputs": [],
   "source": [
    "stop_words = set(stopwords.words('english'))\n",
    "pattern = r'\\b[a-zA-Z]+\\b' # regex pattern for matching words only\n",
    "regex_tokenizer = RegexpTokenizer(pattern)\n",
    "#regex_tokenizer = RegexpTokenizer(r'\\w+') # \\w+ tokenizes the input text into words, extracting sequences of alphanumeric characters as tokens and ignoring punctuations and whitespace.\n",
    "\n",
    "\n",
    "def preprocess_sentence(text):\n",
    "    text = text.replace('/', ' / ')\n",
    "    text = text.replace('.-', ' .- ')\n",
    "    text = text.replace('.', ' . ')\n",
    "    text = text.replace('\\'', ' \\' ')\n",
    "    text = text.lower()\n",
    "\n",
    "    \n",
    "\n",
    "    tokens = [token for token in regex_tokenizer.tokenize(text) \n",
    "             if token not in punctuation and \n",
    "             token not in stop_words\n",
    "            ]\n",
    "\n",
    "    \n",
    "    processed_text = ' '.join(tokens).replace('unit numeric identifier', '') \\\n",
    "                                     .replace('admission date', '') \\\n",
    "                                     .replace('discharge date', '')\\\n",
    "                                     .replace('date birth', '')\n",
    "\n",
    "    return processed_text.strip()"
   ]
  },
  {
   "cell_type": "code",
   "execution_count": 8,
   "metadata": {},
   "outputs": [
    {
     "data": {
      "text/plain": [
       "(13746, 7)"
      ]
     },
     "execution_count": 8,
     "metadata": {},
     "output_type": "execute_result"
    }
   ],
   "source": [
    "hf_admission_notes_with_labels = pd.read_csv('.\\data\\mimic_hf_admission_notes_with_readmission_labels.csv')\n",
    "\n",
    "hf_admission_notes_with_labels.shape"
   ]
  },
  {
   "cell_type": "code",
   "execution_count": 9,
   "metadata": {},
   "outputs": [
    {
     "data": {
      "text/html": [
       "<div>\n",
       "<style scoped>\n",
       "    .dataframe tbody tr th:only-of-type {\n",
       "        vertical-align: middle;\n",
       "    }\n",
       "\n",
       "    .dataframe tbody tr th {\n",
       "        vertical-align: top;\n",
       "    }\n",
       "\n",
       "    .dataframe thead th {\n",
       "        text-align: right;\n",
       "    }\n",
       "</style>\n",
       "<table border=\"1\" class=\"dataframe\">\n",
       "  <thead>\n",
       "    <tr style=\"text-align: right;\">\n",
       "      <th></th>\n",
       "      <th>HADM_ID</th>\n",
       "      <th>SUBJECT_ID</th>\n",
       "      <th>TEXT</th>\n",
       "      <th>DESCRIPTION</th>\n",
       "      <th>ADMITTIME</th>\n",
       "      <th>READMISSION</th>\n",
       "      <th>READMISSION_30DAYS</th>\n",
       "    </tr>\n",
       "  </thead>\n",
       "  <tbody>\n",
       "    <tr>\n",
       "      <th>0</th>\n",
       "      <td>138376</td>\n",
       "      <td>124</td>\n",
       "      <td>Unit No:  [**Numeric Identifier 13036**]\\nAdmi...</td>\n",
       "      <td>Report</td>\n",
       "      <td>2165-12-31 18:55:00</td>\n",
       "      <td>0</td>\n",
       "      <td>0</td>\n",
       "    </tr>\n",
       "    <tr>\n",
       "      <th>1</th>\n",
       "      <td>138523</td>\n",
       "      <td>89292</td>\n",
       "      <td>Admission Date:  [**2169-12-23**]             ...</td>\n",
       "      <td>Report</td>\n",
       "      <td>2169-12-23 20:05:00</td>\n",
       "      <td>0</td>\n",
       "      <td>0</td>\n",
       "    </tr>\n",
       "    <tr>\n",
       "      <th>2</th>\n",
       "      <td>152398</td>\n",
       "      <td>1351</td>\n",
       "      <td>Admission Date:  [**2188-5-3**]              D...</td>\n",
       "      <td>Report</td>\n",
       "      <td>2188-05-03 12:39:00</td>\n",
       "      <td>0</td>\n",
       "      <td>0</td>\n",
       "    </tr>\n",
       "    <tr>\n",
       "      <th>3</th>\n",
       "      <td>107779</td>\n",
       "      <td>15048</td>\n",
       "      <td>Admission Date:  [**2195-9-24**]     Discharge...</td>\n",
       "      <td>Report</td>\n",
       "      <td>2195-09-24 16:38:00</td>\n",
       "      <td>0</td>\n",
       "      <td>0</td>\n",
       "    </tr>\n",
       "    <tr>\n",
       "      <th>4</th>\n",
       "      <td>129665</td>\n",
       "      <td>55611</td>\n",
       "      <td>Admission Date:  [**2172-4-13**]              ...</td>\n",
       "      <td>Report</td>\n",
       "      <td>2172-04-13 19:06:00</td>\n",
       "      <td>0</td>\n",
       "      <td>0</td>\n",
       "    </tr>\n",
       "  </tbody>\n",
       "</table>\n",
       "</div>"
      ],
      "text/plain": [
       "   HADM_ID  SUBJECT_ID                                               TEXT  \\\n",
       "0   138376         124  Unit No:  [**Numeric Identifier 13036**]\\nAdmi...   \n",
       "1   138523       89292  Admission Date:  [**2169-12-23**]             ...   \n",
       "2   152398        1351  Admission Date:  [**2188-5-3**]              D...   \n",
       "3   107779       15048  Admission Date:  [**2195-9-24**]     Discharge...   \n",
       "4   129665       55611  Admission Date:  [**2172-4-13**]              ...   \n",
       "\n",
       "  DESCRIPTION            ADMITTIME  READMISSION  READMISSION_30DAYS  \n",
       "0      Report  2165-12-31 18:55:00            0                   0  \n",
       "1      Report  2169-12-23 20:05:00            0                   0  \n",
       "2      Report  2188-05-03 12:39:00            0                   0  \n",
       "3      Report  2195-09-24 16:38:00            0                   0  \n",
       "4      Report  2172-04-13 19:06:00            0                   0  "
      ]
     },
     "execution_count": 9,
     "metadata": {},
     "output_type": "execute_result"
    }
   ],
   "source": [
    "hf_admission_notes_with_labels.head()"
   ]
  },
  {
   "cell_type": "code",
   "execution_count": 10,
   "metadata": {},
   "outputs": [
    {
     "data": {
      "text/plain": [
       "839"
      ]
     },
     "execution_count": 10,
     "metadata": {},
     "output_type": "execute_result"
    }
   ],
   "source": [
    "len(hf_admission_notes_with_labels.iloc[0,2].split(\" \"))"
   ]
  },
  {
   "cell_type": "code",
   "execution_count": 11,
   "metadata": {},
   "outputs": [
    {
     "data": {
      "text/html": [
       "<div>\n",
       "<style scoped>\n",
       "    .dataframe tbody tr th:only-of-type {\n",
       "        vertical-align: middle;\n",
       "    }\n",
       "\n",
       "    .dataframe tbody tr th {\n",
       "        vertical-align: top;\n",
       "    }\n",
       "\n",
       "    .dataframe thead th {\n",
       "        text-align: right;\n",
       "    }\n",
       "</style>\n",
       "<table border=\"1\" class=\"dataframe\">\n",
       "  <thead>\n",
       "    <tr style=\"text-align: right;\">\n",
       "      <th></th>\n",
       "      <th>READMISSION</th>\n",
       "      <th>READMISSION_30DAYS</th>\n",
       "    </tr>\n",
       "  </thead>\n",
       "  <tbody>\n",
       "    <tr>\n",
       "      <th>sum</th>\n",
       "      <td>3543</td>\n",
       "      <td>962</td>\n",
       "    </tr>\n",
       "    <tr>\n",
       "      <th>count</th>\n",
       "      <td>13746</td>\n",
       "      <td>13746</td>\n",
       "    </tr>\n",
       "  </tbody>\n",
       "</table>\n",
       "</div>"
      ],
      "text/plain": [
       "       READMISSION  READMISSION_30DAYS\n",
       "sum           3543                 962\n",
       "count        13746               13746"
      ]
     },
     "execution_count": 11,
     "metadata": {},
     "output_type": "execute_result"
    }
   ],
   "source": [
    "hf_admission_notes_with_labels[[\"READMISSION\",\"READMISSION_30DAYS\"]].agg([\"sum\",\"count\"])"
   ]
  },
  {
   "cell_type": "markdown",
   "metadata": {},
   "source": [
    "### TOKENIZE AND PROCESS CLINICAL NOTES"
   ]
  },
  {
   "cell_type": "code",
   "execution_count": 12,
   "metadata": {},
   "outputs": [
    {
     "data": {
      "text/html": [
       "<div>\n",
       "<style scoped>\n",
       "    .dataframe tbody tr th:only-of-type {\n",
       "        vertical-align: middle;\n",
       "    }\n",
       "\n",
       "    .dataframe tbody tr th {\n",
       "        vertical-align: top;\n",
       "    }\n",
       "\n",
       "    .dataframe thead th {\n",
       "        text-align: right;\n",
       "    }\n",
       "</style>\n",
       "<table border=\"1\" class=\"dataframe\">\n",
       "  <thead>\n",
       "    <tr style=\"text-align: right;\">\n",
       "      <th></th>\n",
       "      <th>HADM_ID</th>\n",
       "      <th>SUBJECT_ID</th>\n",
       "      <th>TEXT</th>\n",
       "      <th>DESCRIPTION</th>\n",
       "      <th>ADMITTIME</th>\n",
       "      <th>READMISSION</th>\n",
       "      <th>READMISSION_30DAYS</th>\n",
       "      <th>TEXT_LEN</th>\n",
       "      <th>TOKENIZED_PROCESSED_TEXT</th>\n",
       "      <th>TOKENIZED_PROCESSED_TEXT_LEN</th>\n",
       "    </tr>\n",
       "  </thead>\n",
       "  <tbody>\n",
       "    <tr>\n",
       "      <th>0</th>\n",
       "      <td>138376</td>\n",
       "      <td>124</td>\n",
       "      <td>Unit No:  [**Numeric Identifier 13036**]\\nAdmi...</td>\n",
       "      <td>Report</td>\n",
       "      <td>2165-12-31 18:55:00</td>\n",
       "      <td>0</td>\n",
       "      <td>0</td>\n",
       "      <td>839</td>\n",
       "      <td>sex service admission diagnosis pneumonia colo...</td>\n",
       "      <td>511</td>\n",
       "    </tr>\n",
       "    <tr>\n",
       "      <th>1</th>\n",
       "      <td>138523</td>\n",
       "      <td>89292</td>\n",
       "      <td>Admission Date:  [**2169-12-23**]             ...</td>\n",
       "      <td>Report</td>\n",
       "      <td>2169-12-23 20:05:00</td>\n",
       "      <td>0</td>\n",
       "      <td>0</td>\n",
       "      <td>3668</td>\n",
       "      <td>sex service medicine allergies known allergies...</td>\n",
       "      <td>2596</td>\n",
       "    </tr>\n",
       "    <tr>\n",
       "      <th>2</th>\n",
       "      <td>152398</td>\n",
       "      <td>1351</td>\n",
       "      <td>Admission Date:  [**2188-5-3**]              D...</td>\n",
       "      <td>Report</td>\n",
       "      <td>2188-05-03 12:39:00</td>\n",
       "      <td>0</td>\n",
       "      <td>0</td>\n",
       "      <td>1658</td>\n",
       "      <td>sex service medicine allergies penicillins att...</td>\n",
       "      <td>1165</td>\n",
       "    </tr>\n",
       "    <tr>\n",
       "      <th>3</th>\n",
       "      <td>107779</td>\n",
       "      <td>15048</td>\n",
       "      <td>Admission Date:  [**2195-9-24**]     Discharge...</td>\n",
       "      <td>Report</td>\n",
       "      <td>2195-09-24 16:38:00</td>\n",
       "      <td>0</td>\n",
       "      <td>0</td>\n",
       "      <td>669</td>\n",
       "      <td>service company medicine outside hospital panc...</td>\n",
       "      <td>436</td>\n",
       "    </tr>\n",
       "    <tr>\n",
       "      <th>4</th>\n",
       "      <td>129665</td>\n",
       "      <td>55611</td>\n",
       "      <td>Admission Date:  [**2172-4-13**]              ...</td>\n",
       "      <td>Report</td>\n",
       "      <td>2172-04-13 19:06:00</td>\n",
       "      <td>0</td>\n",
       "      <td>0</td>\n",
       "      <td>2431</td>\n",
       "      <td>sex service medicine allergies known allergies...</td>\n",
       "      <td>1726</td>\n",
       "    </tr>\n",
       "  </tbody>\n",
       "</table>\n",
       "</div>"
      ],
      "text/plain": [
       "   HADM_ID  SUBJECT_ID                                               TEXT  \\\n",
       "0   138376         124  Unit No:  [**Numeric Identifier 13036**]\\nAdmi...   \n",
       "1   138523       89292  Admission Date:  [**2169-12-23**]             ...   \n",
       "2   152398        1351  Admission Date:  [**2188-5-3**]              D...   \n",
       "3   107779       15048  Admission Date:  [**2195-9-24**]     Discharge...   \n",
       "4   129665       55611  Admission Date:  [**2172-4-13**]              ...   \n",
       "\n",
       "  DESCRIPTION            ADMITTIME  READMISSION  READMISSION_30DAYS  TEXT_LEN  \\\n",
       "0      Report  2165-12-31 18:55:00            0                   0       839   \n",
       "1      Report  2169-12-23 20:05:00            0                   0      3668   \n",
       "2      Report  2188-05-03 12:39:00            0                   0      1658   \n",
       "3      Report  2195-09-24 16:38:00            0                   0       669   \n",
       "4      Report  2172-04-13 19:06:00            0                   0      2431   \n",
       "\n",
       "                            TOKENIZED_PROCESSED_TEXT  \\\n",
       "0  sex service admission diagnosis pneumonia colo...   \n",
       "1  sex service medicine allergies known allergies...   \n",
       "2  sex service medicine allergies penicillins att...   \n",
       "3  service company medicine outside hospital panc...   \n",
       "4  sex service medicine allergies known allergies...   \n",
       "\n",
       "   TOKENIZED_PROCESSED_TEXT_LEN  \n",
       "0                           511  \n",
       "1                          2596  \n",
       "2                          1165  \n",
       "3                           436  \n",
       "4                          1726  "
      ]
     },
     "execution_count": 12,
     "metadata": {},
     "output_type": "execute_result"
    }
   ],
   "source": [
    "hf_admission_notes_with_labels['TEXT_LEN'] = hf_admission_notes_with_labels['TEXT'].apply(lambda words: len(words.split(\" \")))\n",
    "hf_admission_notes_with_labels['TOKENIZED_PROCESSED_TEXT'] = hf_admission_notes_with_labels['TEXT'].apply(lambda words: preprocess_sentence(words))\n",
    "hf_admission_notes_with_labels['TOKENIZED_PROCESSED_TEXT_LEN'] = hf_admission_notes_with_labels['TOKENIZED_PROCESSED_TEXT'].apply(lambda words: len(words.split(\" \")))\n",
    "\n",
    "hf_admission_notes_with_labels.head()\n",
    "#hf_admission_notes_with_labels.sort_values(\"TEXT_LEN\",ascending=False).head()"
   ]
  },
  {
   "cell_type": "code",
   "execution_count": 13,
   "metadata": {},
   "outputs": [
    {
     "data": {
      "text/plain": [
       "'sex service medicine allergies known allergies adverse drug reactions attending first lf chief complaint shock major surgical invasive procedure thoracentesis bronchoscopy history present illness yo h moderate copd afib coumadin schf transferred location un ed ed management septic shock respiratory failure per patient three sons noted feel sob tired past days morning called ex wife drive name ni feeling unwell location un found hypotensive sbp hr due concern pna cxr given ceftriaxone given liters ns started dopamine levophed continued sbps femoral line placed labs notable wbc eosinophilia due finding given mg hydrocortisone k elevated cr elevated bl bun inr lactate guaiac negative given cacl insulin amp also intubated tachypnea hypoxia started fentanyl versed uop cc total vs prior transfer bp hr ed initial vs degrees c rectal dopamine levophed ac given vancomycin zosyn well liters ns line placed also g ivs ct torso show obvious catastrophy echo performed cards show wall motion abnormalities suggest severe renal called possibility hd felt could medically managed labs lactate k abg inr given cacl amp bicarb dopamine levophed admitted date range pna evidence bilateral basilar consolidation ct treated course levofloxacin lasix doubled mg daily notably ct time showed pleural effusion multifocal pna thoracentesis time showed transudate arrival micu patient intubated sedated dopamine weaned however became bradycardic dopamine increased hr increased maps well past medical history bilateral pneumonia early treated levofloxacin systolic heart failure ejection fraction chronic kidney disease stage iv coronary artery disease status post vessel coronary artery bypass chronic atrial fibrillation anticoagulation chronic obstructive pulmonary disease asthma gout hypertension peripheral vascular disease p left fem doctor last name bypass lt cea social history per sons drinks glasses wine daily current smoker h heavy smoking staying son since hospitalization early month prior ambulating living independently family history unknown physical exam vitals f bp p r ac x peep general intubated sedated heent sclera anicteric dry mm oropharynx et tube neck supple jvp ear degrees cv irregular normal harsh systolic murmur rubs gallops lungs rhonchi anterior lung fields bilaterally decreased sounds bases right left abdomen soft non tender mildly distended bowel sounds hypoactive gu foley place ext warm well perfused pulses clubbing cyanosis edema neuro left pupil right pupil sluggish following commands sedated skin multiple diffuse excoriations legs torso old bruise chest pertinent results admission labs blood wbc rbc hgb hct mcv mch mchc rdw plt ct blood neuts lymphs monos eos baso blood pt ptt inr pt blood done blood ipt done blood alt ast ld ldh ck cpk alkphos totbili blood lipase blood ctropnt blood ck mb ctropnt blood ck mb mb indx ctropnt blood ck mb mb indx ctropnt blood ck mb mb indx ctropnt blood albumin calcium phos mg blood hapto blood eag blood tsh blood vanco cbc diff blood wbc rbc hgb hct mcv mch mchc rdw plt ct blood wbc rbc hgb hct mcv mch mchc rdw plt ct blood wbc rbc hgb hct mcv mch mchc rdw plt ct blood wbc rbc hgb hct mcv mch mchc rdw plt ct blood wbc rbc hgb hct mcv mch mchc rdw plt ct blood wbc rbc hgb hct mcv mch mchc rdw plt ct blood wbc rbc hgb hct mcv mch mchc rdw plt ct blood wbc rbc hgb hct mcv mch mchc rdw plt ct blood wbc rbc hgb hct mcv mch mchc rdw plt ct blood wbc rbc hgb hct mcv mch mchc rdw plt ct blood neuts lymphs monos eos baso blood neuts bands lymphs monos eos baso atyps metas myelos blood neuts lymphs monos eos baso blood neuts bands lymphs monos eos baso atyps metas myelos blood neuts lymphs monos eos baso blood neuts lymphs monos eos baso blood neuts lymphs monos eos baso blood neuts lymphs monos eos baso blood neuts lymphs monos eos baso blood neuts bands lymphs monos eos baso atyps metas myelos blood done done hla dr last name stitle name stitle done kappa done done done done done done lambda done done coag labs blood pt ptt inr pt blood pt ptt inr pt blood pt ptt inr pt blood pt ptt inr pt blood pt ptt inr pt blood pt ptt inr pt blood pt ptt inr pt blood pt ptt inr pt blood pt ptt inr pt blood pt ptt inr pt blood pt ptt inr pt blood pt ptt inr pt blood pt ptt inr pt blood pt ptt inr pt blood pt ptt inr pt blood pt ptt inr pt blood fibrino blood fibrino blood fibrino blood fibrino blood fibrino blood hapto blood hapto blood hapto blood hapto lytes creatine trend blood urean creat blood glucose urean creat na k cl angap blood glucose urean creat na k cl angap blood glucose urean creat na k cl angap blood glucose urean creat na k cl angap blood glucose urean creat na k cl angap blood glucose urean creat na k cl angap blood glucose urean creat na k cl angap blood glucose urean creat na k cl angap blood glucose urean creat na k cl angap blood glucose urean creat na k cl angap blood creat na k cl blood glucose urean creat na k cl angap blood glucose urean creat na k cl angap blood glucose urean creat na k cl angap blood glucose urean creat na k cl angap blood glucose urean creat na k cl angap blood glucose urean creat na k cl angap blood glucose urean creat na k cl angap blood urean creat na k cl angap blood glucose urean creat na k cl angap lfts lipase blood alt ast ld ldh ck cpk alkphos totbili blood alt ast ld ldh ck cpk alkphos amylase totbili blood alt ast ld ldh alkphos totbili blood alt ast ld ldh alkphos totbili blood alt ast ld ldh alkphos totbili blood lipase blood lipase blood lipase blood lipase blood lipase blood lipase ce blood ck mb ctropnt blood ck mb mb indx ctropnt blood ck mb mb indx ctropnt blood ck mb mb indx ctropnt blood ck mb mb indx ctropnt blood ck mb ctropnt blood ck mb ctropnt blood ck mb ctropnt blood ck mb ctropnt blood ck mb ctropnt blood ck mb ctropnt flow cytometry following tests antibodies performed hla dr fmc kappa lambda cd antigens results three color gating performed light scatter vs optimize lymphocyte yield lymphoid cells comprise total analyzed events b cells comprise lymphoid gated events nonspecific surface immunoglobulin staining express aberrant antigens cells comprise lymphoid gated events express mature lineage antigens normal helper cytotoxic ratio usual range blood cell marker analysis demonstrates increased percentage natural killer cells usual range blood display expected antigenic profile interpretation atypical pattern immunoglobulin staining b cells diagnostic raises possibility b cell lymphoproliferative disorder please correlate clinical radiologic laboratory findings flow cytometry immunophenotyping may detect lymphomas due topography sampling artifacts sample preparation microbiology respiratory viral culture final respiratory viruses isolated culture screened adenovirus influenza b parainfluenza type respiratory syncytial virus respiratory viral antigen screen final less columnar epithelial cells specimen inadequate detecting respiratory viral infection dfa testing interpret negative results specimen caution negative results used discontinue precautions refer respiratory viral culture results recommend new sample submitted confirmation reported read back location un viral culture r cytomegalovirus preliminary cytomegalovirus cmv isolated cytomegalovirus early antigen test shell vial method final negative cytomegalovirus early antigen immunofluorescence images studies ct c p large right pleural effusion adjacent consolidation likely represents atelectasis underlying pneumonia cannot excluded small focus ground glass opacity left upper lobe nonspecific could represent small focus infection trace ascites possible peripancreatic periduodenal stranding fluid trace fluid anterior bilateral psoas muscles correlation pancreatic enzymes recommended could also secondary hydration ongoing capillary leak ruq ultrasound gallstones gallbladder sludge unremarkable gallbladder intra extra hepatic biliary dilatation sliver perihepatic fluid along inferior liver edge morison pouch right pleural effusion derm biopsy l thigh mild spongiotic psoriasiform superficial perivascular dermatitis neutrophils eosinophils occasional dyskeratotic cells marked neutrophilic scale crust eczematous dermatitis including nummular eczema possible due finding dyskeratosis differential diagnosis includes drug eruption scale pityriasis rosea special stains gram gms pas negative organisms pleural fluid negative malignant cells bronchial washing negative malignant cells peripheral smear mild microcytosis central pallor eosinophil seen morphologically normal pmns also normal atypical lymphocytes platelets slightly decreased number normal morphology video swallow indication suspected aspiration technique video oropharyngeal swallow study performed conjunction speech pathology department varying consistencies barium administered ap lateral projections findings severe aspiration identified thin liquids nectar thickened liquids single penetration event noted though aspiration identified moderate pharyngeal residue noted please consult speech language pathology department note online medical record details echo left atrium mildly dilated left ventricular wall thicknesses normal left ventricular cavity size normal mild regional left ventricular systolic dysfunction focal hypokinesis inferior wall mild hypokinesis distal left ventricle remaining segments contract normally lvef overall left ventricular systolic function low normal lvef tissue doppler imaging suggests increased left ventricular filling pressure pcwp mild resting left ventricular outflow tract obstruction right ventricular chamber size free wall motion normal aortic valve leaflets severely thickened deformed moderate aortic valve stenosis valve area mitral valve leaflets mildly thickened trivial mitral regurgitation seen tricuspid valve leaflets mildly thickened moderate pulmonary artery systolic hypertension pericardial effusion compared prior study images reviewed left ventricular ejection fraction improved improved regional function distal third left ventricle mild left ventricular outflow gradient present less mitral tricuspid regurgitation cxray large right pleural effusion increased mild pulmonary edema persists heart size top normal right sided central venous catheter ends upper svc et tube standard placement nasogastric tube passes diaphragm view pneumothorax brief hospital course yo h moderate copd chf recent admission multifocal pna presenting weakness hypotension found septic shock respiratory failure respiratory failure presentation osh ed patient felt respiratory distress intubated recent underwent treatment early multifocal pneumonia underwent r thoracentesis time showed transudative pleural fluid imaging admission showed multifocal consolidations large r sided pleural effusion unclear whether due residual findings prior pneumonia new hcap covered vanc zosyn possible hcap repeat right sided thoracentesis admission showed transudative pleural fluid negative cultures developed new pneumothorax following thoracentesis stable resolved serial cxrs setting receiving ivf prbc see patient became fluid overloaded setting chronic heart failure diuresed bumex respond high doses iv lasix see also noted expiratory stridor wheezing trachea also hoarse whispering voice following extubation ent consulted bedside laryngoscopy patient found right vocal cord paralysis maintained strict npo called medical floor setting pulling ng tube increased secretions developed hypercapnic respiratory failure reintubated antibiotics broadened treated aggressively copd exacerbation however difficult wean patient vent due apnea addition fluid overloaded total approximately length stay given bumex metolazone initially responding diuretics also falling multiple sbt trials due apnea increase secretions discussed family possibility cvvh attempt remove fluid improve respiratory status possibility future tracheostomy family decided change goals care cmo plan extubation reintubate extubated evening several family members came see patient initially well increase work breathing increase secretions unable clear placed morphine drip comfort scopolamine patch oxygen saturation remained low passed way rash multiple excoriations history profound itching dermatology consulted extensive erythematous rash torso extremities found eczematous dermatitis biopsy treated petroleum jelly hydration skin well triamcinolone cream used weeks improvement rash famotidine also started allopurinol stopped question hypersensitive reaction setting elevated creatinine continued pruritus prior extubation given prednisone low dose benadryl comfort addition topical creams seem helped bleeding patient significant bleeding multiple sites including significantly increased hematuria melena profuse bleeding lines earlier hospitalization improved initially concern dic vs ttp although lab work negative far cont increase inr even two doses vit k uncertain etiology sent smear flow cytology transfused units prbc minimal increase hematocrit started iv ppi gi contact name ni plan possible scope prior discharge nstemi hypotension bradycardia h chronic afib metoprolol initially bradycardic presentation concern decreased renal clearance metoprolol also likely element sick sinus syndrome found elevated cardiac enzymes ekg low voltages show significant st changes consistent nstemi given inr admission time nstemi started aspirin atorvastatin held plavix heparin gtt per cardiology recs cardiac enzymes subsequently stabilized started trend transfused goal hct nstemi increase coronary perfusion restarted metoprolol iv q npo given aspiration tachycardia likely rebound tachycardia given nodal agents home subsequently developed bleeding multiple sites see asa discontinued eosinophilia initial significant peripheral eosinophilia location un resolved arrival setting stress dose hydrocortisone hydrocortisone discontinued several days transfer several days discontinuation patient noted recurrence peripheral eosinophilia derm feel secondary rash also found eosinophils urine determined secondary possible allergic reaction medication allopurinol lasix although etiolgy uncertain heme consulted evaluation eosinophilia well elevated inr peripheral smear showed mild microcytosis central pallor eosinophil seen morphologically normal pmns also normal atypical lymphocytes platelets slightly decreased number normal morphology also flow cytometry undeterminate heme thought eosinophilia could due loafers syndrome reactive process secondary asthma eosinophilic pneumonia although unlikely given pt eos bronchial lavage even though already treated steroids still present allergic reaction antibiotics vasculitic process possibly involving lungs skin also consideration ct scan show definite evidence lymphadenopathy tumor suggest lymphoma tumors blood smear show evidence leukemia addition spep upep also negative acute chronic ri thought due atn urine eos suggest patient previously lasix presumed good response responding mg iv lasix responded iv due high doses transitioned bumex second intubation responding high dose bumex metolazone increase creatine thought due atn discussed possible cvvh family however decided shock initially two pressors sbp gradually weaned fluid resuscitation antibiotics likely septic shock multifocal pna although hypovolemic shock overdiuresis also possibility given diuretics increased outpatient time prior pna month also given stress dose hydrocortisone initial presentation subsequently discontinued pressors weaned cultures negative date findings cxr ct chest may residual findings recently treated pneumonia treated vancomycin zosyn day course second episode respiratory failure hypotension post intubation requiring pressors cxray consistent aspiration pneumonia also hypothermic concern resistant bacteria antibiotics broaden vanco meropenem pan cultured growth cultures today elevated inr initial inr setting coumadin use outpatient acute renal failure likely poor renal clearance coumadin well possible nutritional deficiency received vitamin k po doses improvement inr however inr continues remain elevated coumadin evaluation heme pt another dose vit k helped trend inr likely due nutritional deficit elevated lipase ruq us negative month medications lasix abx vs sepsis trending stabilizing abd initially thought distended second transfer icu kub negative obstruction free air lft mildly elevated w ast aortic stenosis moderate valve area echo repeat echo showed valve stable peak gradient mm hg also thought played significant role fluid status given accumulated pleural fluid hypotension fluid overloaded possibly leading distension ventricles decrease co repeat echo showed increased left ventricular filling pressure noted renal function worse moderately responsive diuretics family cvvh given changes goal care systolic diastolic chf new wall motion abnormalities noted echo hold ace restarted bb diuretics cad p cabg mi patient acute mi described continue statin hold asa gout c ed allopurinol due concern hypersensitive reaction htn hold losartan doxazosin continue diuresis fen ivfs prn replete electrolytes npo due aspiration risk pt ng tube intubated prophylaxis elevated inr pneumoboots access peripherals line femoral line wich switched lij removed pressors communication sons hcp name ni code initially full code changed dnr changed comfort measures discussion sons medications admission vitals f bp p r ac x peep general intubated sedated heent sclera anicteric dry mm oropharynx et tube neck supple jvp ear degrees cv irregular normal harsh systolic murmur rubs gallops lungs rhonchi anterior lung fields bilaterally decreased sounds bases right left abdomen soft non tender mildly distended bowel sounds hypoactive gu foley place ext warm well perfused pulses clubbing cyanosis edema neuro left pupil right pupil sluggish following commands sedated skin multiple diffuse excoriations legs torso old bruise chest discharge medications none discharge disposition expired discharge diagnosis expired respiratory failure discharge condition expired'"
      ]
     },
     "execution_count": 13,
     "metadata": {},
     "output_type": "execute_result"
    }
   ],
   "source": [
    "hf_admission_notes_with_labels.iloc[1,8]"
   ]
  },
  {
   "cell_type": "code",
   "execution_count": 14,
   "metadata": {},
   "outputs": [
    {
     "name": "stdout",
     "output_type": "stream",
     "text": [
      "[2023/11/13 18:59:05] - Avg Tokenized & Processed Notes Length: 1157.3649789029537\n",
      "[2023/11/13 18:59:05] - Max Tokenized & Processed Notes Length: 4650\n",
      "[2023/11/13 18:59:05] - Min Tokenized & Processed Notes Length: 24\n",
      "[2023/11/13 18:59:05] - Std Tokenized & Processed Notes Length: 506.20113787888295\n",
      "[2023/11/13 18:59:05] - 2676\n"
     ]
    },
    {
     "data": {
      "text/html": [
       "<div>\n",
       "<style scoped>\n",
       "    .dataframe tbody tr th:only-of-type {\n",
       "        vertical-align: middle;\n",
       "    }\n",
       "\n",
       "    .dataframe tbody tr th {\n",
       "        vertical-align: top;\n",
       "    }\n",
       "\n",
       "    .dataframe thead th {\n",
       "        text-align: right;\n",
       "    }\n",
       "</style>\n",
       "<table border=\"1\" class=\"dataframe\">\n",
       "  <thead>\n",
       "    <tr style=\"text-align: right;\">\n",
       "      <th></th>\n",
       "      <th>HADM_ID</th>\n",
       "      <th>SUBJECT_ID</th>\n",
       "      <th>TEXT</th>\n",
       "      <th>DESCRIPTION</th>\n",
       "      <th>ADMITTIME</th>\n",
       "      <th>READMISSION</th>\n",
       "      <th>READMISSION_30DAYS</th>\n",
       "      <th>TEXT_LEN</th>\n",
       "      <th>TOKENIZED_PROCESSED_TEXT</th>\n",
       "      <th>TOKENIZED_PROCESSED_TEXT_LEN</th>\n",
       "    </tr>\n",
       "  </thead>\n",
       "  <tbody>\n",
       "    <tr>\n",
       "      <th>0</th>\n",
       "      <td>138376</td>\n",
       "      <td>124</td>\n",
       "      <td>Unit No:  [**Numeric Identifier 13036**]\\nAdmi...</td>\n",
       "      <td>Report</td>\n",
       "      <td>2165-12-31 18:55:00</td>\n",
       "      <td>0</td>\n",
       "      <td>0</td>\n",
       "      <td>839</td>\n",
       "      <td>sex service admission diagnosis pneumonia colo...</td>\n",
       "      <td>511</td>\n",
       "    </tr>\n",
       "    <tr>\n",
       "      <th>1</th>\n",
       "      <td>138523</td>\n",
       "      <td>89292</td>\n",
       "      <td>Admission Date:  [**2169-12-23**]             ...</td>\n",
       "      <td>Report</td>\n",
       "      <td>2169-12-23 20:05:00</td>\n",
       "      <td>0</td>\n",
       "      <td>0</td>\n",
       "      <td>3668</td>\n",
       "      <td>sex service medicine allergies known allergies...</td>\n",
       "      <td>2596</td>\n",
       "    </tr>\n",
       "    <tr>\n",
       "      <th>2</th>\n",
       "      <td>152398</td>\n",
       "      <td>1351</td>\n",
       "      <td>Admission Date:  [**2188-5-3**]              D...</td>\n",
       "      <td>Report</td>\n",
       "      <td>2188-05-03 12:39:00</td>\n",
       "      <td>0</td>\n",
       "      <td>0</td>\n",
       "      <td>1658</td>\n",
       "      <td>sex service medicine allergies penicillins att...</td>\n",
       "      <td>1165</td>\n",
       "    </tr>\n",
       "    <tr>\n",
       "      <th>3</th>\n",
       "      <td>107779</td>\n",
       "      <td>15048</td>\n",
       "      <td>Admission Date:  [**2195-9-24**]     Discharge...</td>\n",
       "      <td>Report</td>\n",
       "      <td>2195-09-24 16:38:00</td>\n",
       "      <td>0</td>\n",
       "      <td>0</td>\n",
       "      <td>669</td>\n",
       "      <td>service company medicine outside hospital panc...</td>\n",
       "      <td>436</td>\n",
       "    </tr>\n",
       "    <tr>\n",
       "      <th>4</th>\n",
       "      <td>129665</td>\n",
       "      <td>55611</td>\n",
       "      <td>Admission Date:  [**2172-4-13**]              ...</td>\n",
       "      <td>Report</td>\n",
       "      <td>2172-04-13 19:06:00</td>\n",
       "      <td>0</td>\n",
       "      <td>0</td>\n",
       "      <td>2431</td>\n",
       "      <td>sex service medicine allergies known allergies...</td>\n",
       "      <td>1726</td>\n",
       "    </tr>\n",
       "  </tbody>\n",
       "</table>\n",
       "</div>"
      ],
      "text/plain": [
       "   HADM_ID  SUBJECT_ID                                               TEXT  \\\n",
       "0   138376         124  Unit No:  [**Numeric Identifier 13036**]\\nAdmi...   \n",
       "1   138523       89292  Admission Date:  [**2169-12-23**]             ...   \n",
       "2   152398        1351  Admission Date:  [**2188-5-3**]              D...   \n",
       "3   107779       15048  Admission Date:  [**2195-9-24**]     Discharge...   \n",
       "4   129665       55611  Admission Date:  [**2172-4-13**]              ...   \n",
       "\n",
       "  DESCRIPTION            ADMITTIME  READMISSION  READMISSION_30DAYS  TEXT_LEN  \\\n",
       "0      Report  2165-12-31 18:55:00            0                   0       839   \n",
       "1      Report  2169-12-23 20:05:00            0                   0      3668   \n",
       "2      Report  2188-05-03 12:39:00            0                   0      1658   \n",
       "3      Report  2195-09-24 16:38:00            0                   0       669   \n",
       "4      Report  2172-04-13 19:06:00            0                   0      2431   \n",
       "\n",
       "                            TOKENIZED_PROCESSED_TEXT  \\\n",
       "0  sex service admission diagnosis pneumonia colo...   \n",
       "1  sex service medicine allergies known allergies...   \n",
       "2  sex service medicine allergies penicillins att...   \n",
       "3  service company medicine outside hospital panc...   \n",
       "4  sex service medicine allergies known allergies...   \n",
       "\n",
       "   TOKENIZED_PROCESSED_TEXT_LEN  \n",
       "0                           511  \n",
       "1                          2596  \n",
       "2                          1165  \n",
       "3                           436  \n",
       "4                          1726  "
      ]
     },
     "metadata": {},
     "output_type": "display_data"
    },
    {
     "name": "stderr",
     "output_type": "stream",
     "text": [
      "c:\\Users\\ssiddiqui\\OneDrive\\Education\\GT-OMSA\\CSE-6250-Big-Data-Health\\Project\\BD4H_FINAL\\bd4h_final_proj\\Lib\\site-packages\\seaborn\\_oldcore.py:1498: FutureWarning: is_categorical_dtype is deprecated and will be removed in a future version. Use isinstance(dtype, CategoricalDtype) instead\n",
      "  if pd.api.types.is_categorical_dtype(vector):\n",
      "c:\\Users\\ssiddiqui\\OneDrive\\Education\\GT-OMSA\\CSE-6250-Big-Data-Health\\Project\\BD4H_FINAL\\bd4h_final_proj\\Lib\\site-packages\\seaborn\\_oldcore.py:1119: FutureWarning: use_inf_as_na option is deprecated and will be removed in a future version. Convert inf values to NaN before operating instead.\n",
      "  with pd.option_context('mode.use_inf_as_na', True):\n"
     ]
    },
    {
     "data": {
      "image/png": "[encoded data removed]",
      "text/plain": [
       "<Figure size 640x480 with 1 Axes>"
      ]
     },
     "metadata": {},
     "output_type": "display_data"
    }
   ],
   "source": [
    "hf_admission_notes_with_labels[\"TOKENIZED_PROCESSED_TEXT_LEN\"].max()\n",
    "\n",
    "#rule of thumb from statistics that approximately 99.7% of data points in a normally distributed dataset lie within three standard deviations of the mean\n",
    "notes_len_cutoff = np.round(hf_admission_notes_with_labels['TOKENIZED_PROCESSED_TEXT_LEN'].mean() + 3*hf_admission_notes_with_labels['TOKENIZED_PROCESSED_TEXT_LEN'].std()).astype(int) \n",
    "\n",
    "\n",
    "#Instead of using the mean and standard deviation, consider using the median and interquartile range (IQR) to set max_seq_len,\n",
    "# since the median and IQR are more robust to skewed data and outliers.\n",
    "\n",
    "#q75, q25 = np.percentile(hf_admission_notes_with_labels['TEXT_LEN'], [75 ,25])\n",
    "#iqr = q75 - q25\n",
    "#max_seq_len = np.round(q75 + (1.5 * iqr)).astype(int) # Adjust 1.5 based on how inclusive you want to be of the outlier data.\n",
    "#max_seq_len\n",
    "\n",
    "print(f\"Avg Tokenized & Processed Notes Length: {hf_admission_notes_with_labels['TOKENIZED_PROCESSED_TEXT_LEN'].mean()}\")\n",
    "print(f\"Max Tokenized & Processed Notes Length: {hf_admission_notes_with_labels['TOKENIZED_PROCESSED_TEXT_LEN'].max()}\")\n",
    "print(f\"Min Tokenized & Processed Notes Length: {hf_admission_notes_with_labels['TOKENIZED_PROCESSED_TEXT_LEN'].min()}\")\n",
    "print(f\"Std Tokenized & Processed Notes Length: {hf_admission_notes_with_labels['TOKENIZED_PROCESSED_TEXT_LEN'].std()}\")\n",
    "print(notes_len_cutoff)\n",
    "display(hf_admission_notes_with_labels.head(5))\n",
    "\n",
    "#https://gist.github.com/mwaskom/de44147ed2974457ad6372750bbe5751\n",
    "sns.histplot(hf_admission_notes_with_labels['TOKENIZED_PROCESSED_TEXT_LEN'], kde=True, stat=\"density\", color='b', label='notes len')\n",
    "plt.axvline(x=notes_len_cutoff, color='k', linestyle='--', label='notes len cutoff')\n",
    "plt.title('CLINICAL NOTES TOKENIZED & PROCESSED TEXT TEXT LENGTH'); plt.legend()\n",
    "plt.show()\n"
   ]
  },
  {
   "cell_type": "markdown",
   "metadata": {},
   "source": [
    "## DOWNSAMPLE THE MAJORITY CLASS TO MATCH READMISSION SAMPLES \n",
    "\n",
    "### BALANCED SAMPLE DATASET"
   ]
  },
  {
   "cell_type": "code",
   "execution_count": 15,
   "metadata": {},
   "outputs": [
    {
     "name": "stdout",
     "output_type": "stream",
     "text": [
      "[2023/11/13 18:59:06] - READMISSION\n",
      "0    3543\n",
      "1    3543\n",
      "Name: count, dtype: int64\n",
      "[2023/11/13 18:59:06] - READMISSION\n",
      "0    1417\n",
      "1    1417\n",
      "Name: count, dtype: int64\n"
     ]
    }
   ],
   "source": [
    "\n",
    "# Separate majority and minority classes\n",
    "hf_readmission_notes_majority = hf_admission_notes_with_labels[hf_admission_notes_with_labels.READMISSION == 0]\n",
    "hf_readmission_notes_minority = hf_admission_notes_with_labels[hf_admission_notes_with_labels.READMISSION == 1]\n",
    "# Downsample majority class\n",
    "hf_readmission_notes_majority_downsampled = hf_readmission_notes_majority.sample(n=len(hf_readmission_notes_minority), random_state=42)\n",
    "# Combine minority class with downsampled majority class\n",
    "hf_readmission_notes_balanced = pd.concat([hf_readmission_notes_majority_downsampled, hf_readmission_notes_minority])\n",
    "\n",
    "print(hf_readmission_notes_balanced.READMISSION.value_counts())\n",
    "\n",
    "# Shuffle the dataset to prevent the model from learning any order\n",
    "hf_readmission_notes_balanced = hf_readmission_notes_balanced.sample(frac=1, random_state=42).reset_index(drop=True)\n",
    "\n",
    "fraction = 0.4  # For example, 10% of each class\n",
    "hf_readmission_notes_balanced = hf_readmission_notes_balanced.groupby('READMISSION', group_keys=False).apply(lambda x: x.sample(frac=fraction))\n",
    "\n",
    "\n",
    "# Display new class counts\n",
    "print(hf_readmission_notes_balanced.READMISSION.value_counts())"
   ]
  },
  {
   "cell_type": "code",
   "execution_count": 16,
   "metadata": {},
   "outputs": [
    {
     "name": "stdout",
     "output_type": "stream",
     "text": [
      "[2023/11/13 18:59:06] - Avg Tokenized & Processed Notes Length: 1180.516584333098\n",
      "[2023/11/13 18:59:06] - Max Tokenized & Processed Notes Length: 3977\n",
      "[2023/11/13 18:59:06] - Min Tokenized & Processed Notes Length: 91\n",
      "[2023/11/13 18:59:06] - Std Tokenized & Processed Notes Length: 499.52987772155456\n",
      "[2023/11/13 18:59:06] - 2953\n"
     ]
    },
    {
     "data": {
      "text/html": [
       "<div>\n",
       "<style scoped>\n",
       "    .dataframe tbody tr th:only-of-type {\n",
       "        vertical-align: middle;\n",
       "    }\n",
       "\n",
       "    .dataframe tbody tr th {\n",
       "        vertical-align: top;\n",
       "    }\n",
       "\n",
       "    .dataframe thead th {\n",
       "        text-align: right;\n",
       "    }\n",
       "</style>\n",
       "<table border=\"1\" class=\"dataframe\">\n",
       "  <thead>\n",
       "    <tr style=\"text-align: right;\">\n",
       "      <th></th>\n",
       "      <th>HADM_ID</th>\n",
       "      <th>SUBJECT_ID</th>\n",
       "      <th>TEXT</th>\n",
       "      <th>DESCRIPTION</th>\n",
       "      <th>ADMITTIME</th>\n",
       "      <th>READMISSION</th>\n",
       "      <th>READMISSION_30DAYS</th>\n",
       "      <th>TEXT_LEN</th>\n",
       "      <th>TOKENIZED_PROCESSED_TEXT</th>\n",
       "      <th>TOKENIZED_PROCESSED_TEXT_LEN</th>\n",
       "    </tr>\n",
       "  </thead>\n",
       "  <tbody>\n",
       "    <tr>\n",
       "      <th>830</th>\n",
       "      <td>119203</td>\n",
       "      <td>42</td>\n",
       "      <td>Admission Date: [**2116-4-29**]        Dischar...</td>\n",
       "      <td>Report</td>\n",
       "      <td>2116-04-26 18:58:00</td>\n",
       "      <td>0</td>\n",
       "      <td>0</td>\n",
       "      <td>1242</td>\n",
       "      <td>sex service ccu history present illness patien...</td>\n",
       "      <td>644</td>\n",
       "    </tr>\n",
       "    <tr>\n",
       "      <th>4225</th>\n",
       "      <td>104448</td>\n",
       "      <td>17709</td>\n",
       "      <td>Admission Date:  [**2197-11-10**]             ...</td>\n",
       "      <td>Report</td>\n",
       "      <td>2197-11-10 18:21:00</td>\n",
       "      <td>0</td>\n",
       "      <td>0</td>\n",
       "      <td>768</td>\n",
       "      <td>sex f service cardiothoracic allergies patient...</td>\n",
       "      <td>623</td>\n",
       "    </tr>\n",
       "    <tr>\n",
       "      <th>4014</th>\n",
       "      <td>126522</td>\n",
       "      <td>30890</td>\n",
       "      <td>Admission Date:  [**2194-7-31**]              ...</td>\n",
       "      <td>Report</td>\n",
       "      <td>2194-07-31 22:30:00</td>\n",
       "      <td>0</td>\n",
       "      <td>0</td>\n",
       "      <td>1423</td>\n",
       "      <td>sex f service medicine allergies patient recor...</td>\n",
       "      <td>976</td>\n",
       "    </tr>\n",
       "    <tr>\n",
       "      <th>4222</th>\n",
       "      <td>136079</td>\n",
       "      <td>14994</td>\n",
       "      <td>Admission Date:  [**2136-8-13**]              ...</td>\n",
       "      <td>Report</td>\n",
       "      <td>2136-08-13 06:23:00</td>\n",
       "      <td>0</td>\n",
       "      <td>0</td>\n",
       "      <td>1386</td>\n",
       "      <td>service med allergies patient recorded known a...</td>\n",
       "      <td>1035</td>\n",
       "    </tr>\n",
       "    <tr>\n",
       "      <th>1826</th>\n",
       "      <td>149291</td>\n",
       "      <td>2734</td>\n",
       "      <td>Admission Date:  [**2109-4-16**]              ...</td>\n",
       "      <td>Report</td>\n",
       "      <td>2109-04-16 03:53:00</td>\n",
       "      <td>0</td>\n",
       "      <td>0</td>\n",
       "      <td>1402</td>\n",
       "      <td>sex service medicine allergies c e inhibitors ...</td>\n",
       "      <td>974</td>\n",
       "    </tr>\n",
       "  </tbody>\n",
       "</table>\n",
       "</div>"
      ],
      "text/plain": [
       "      HADM_ID  SUBJECT_ID                                               TEXT  \\\n",
       "830    119203          42  Admission Date: [**2116-4-29**]        Dischar...   \n",
       "4225   104448       17709  Admission Date:  [**2197-11-10**]             ...   \n",
       "4014   126522       30890  Admission Date:  [**2194-7-31**]              ...   \n",
       "4222   136079       14994  Admission Date:  [**2136-8-13**]              ...   \n",
       "1826   149291        2734  Admission Date:  [**2109-4-16**]              ...   \n",
       "\n",
       "     DESCRIPTION            ADMITTIME  READMISSION  READMISSION_30DAYS  \\\n",
       "830       Report  2116-04-26 18:58:00            0                   0   \n",
       "4225      Report  2197-11-10 18:21:00            0                   0   \n",
       "4014      Report  2194-07-31 22:30:00            0                   0   \n",
       "4222      Report  2136-08-13 06:23:00            0                   0   \n",
       "1826      Report  2109-04-16 03:53:00            0                   0   \n",
       "\n",
       "      TEXT_LEN                           TOKENIZED_PROCESSED_TEXT  \\\n",
       "830       1242  sex service ccu history present illness patien...   \n",
       "4225       768  sex f service cardiothoracic allergies patient...   \n",
       "4014      1423  sex f service medicine allergies patient recor...   \n",
       "4222      1386  service med allergies patient recorded known a...   \n",
       "1826      1402  sex service medicine allergies c e inhibitors ...   \n",
       "\n",
       "      TOKENIZED_PROCESSED_TEXT_LEN  \n",
       "830                            644  \n",
       "4225                           623  \n",
       "4014                           976  \n",
       "4222                          1035  \n",
       "1826                           974  "
      ]
     },
     "metadata": {},
     "output_type": "display_data"
    },
    {
     "name": "stderr",
     "output_type": "stream",
     "text": [
      "c:\\Users\\ssiddiqui\\OneDrive\\Education\\GT-OMSA\\CSE-6250-Big-Data-Health\\Project\\BD4H_FINAL\\bd4h_final_proj\\Lib\\site-packages\\seaborn\\_oldcore.py:1498: FutureWarning: is_categorical_dtype is deprecated and will be removed in a future version. Use isinstance(dtype, CategoricalDtype) instead\n",
      "  if pd.api.types.is_categorical_dtype(vector):\n",
      "c:\\Users\\ssiddiqui\\OneDrive\\Education\\GT-OMSA\\CSE-6250-Big-Data-Health\\Project\\BD4H_FINAL\\bd4h_final_proj\\Lib\\site-packages\\seaborn\\_oldcore.py:1119: FutureWarning: use_inf_as_na option is deprecated and will be removed in a future version. Convert inf values to NaN before operating instead.\n",
      "  with pd.option_context('mode.use_inf_as_na', True):\n"
     ]
    },
    {
     "data": {
      "image/png": "[encoded data removed]",
      "text/plain": [
       "<Figure size 640x480 with 1 Axes>"
      ]
     },
     "metadata": {},
     "output_type": "display_data"
    }
   ],
   "source": [
    "#rule of thumb from statistics that approximately 99.7% of data points in a normally distributed dataset lie within three standard deviations of the mean\n",
    "#readmission_notes_len_cutoff = np.round(hf_readmission_notes_balanced['TEXT_LEN'].mean() + 3*hf_readmission_notes_balanced['TEXT_LEN'].std()).astype(int) \n",
    "#print(readmission_notes_len_cutoff)\n",
    "\n",
    "#Instead of using the mean and standard deviation, consider using the median and interquartile range (IQR) to set max_seq_len,\n",
    "# since the median and IQR are more robust to skewed data and outliers.\n",
    "\n",
    "q85, q25 = np.percentile(hf_admission_notes_with_labels['TOKENIZED_PROCESSED_TEXT_LEN'], [85 ,25])\n",
    "iqr = q85 - q25\n",
    "readmission_notes_len_cutoff = np.round(q85 + (1.5 * iqr)).astype(int) # Adjust 1.5 based on how inclusive you want to be of the outlier data.\n",
    "\n",
    "\n",
    "print(f\"Avg Tokenized & Processed Notes Length: {hf_readmission_notes_balanced['TOKENIZED_PROCESSED_TEXT_LEN'].mean()}\")\n",
    "print(f\"Max Tokenized & Processed Notes Length: {hf_readmission_notes_balanced['TOKENIZED_PROCESSED_TEXT_LEN'].max()}\")\n",
    "print(f\"Min Tokenized & Processed Notes Length: {hf_readmission_notes_balanced['TOKENIZED_PROCESSED_TEXT_LEN'].min()}\")\n",
    "print(f\"Std Tokenized & Processed Notes Length: {hf_readmission_notes_balanced['TOKENIZED_PROCESSED_TEXT_LEN'].std()}\")\n",
    "print(readmission_notes_len_cutoff)\n",
    "display(hf_readmission_notes_balanced.head(5))\n",
    "\n",
    "#https://gist.github.com/mwaskom/de44147ed2974457ad6372750bbe5751\n",
    "sns.histplot(hf_readmission_notes_balanced['TOKENIZED_PROCESSED_TEXT_LEN'], kde=True, stat=\"density\", color='b', label='notes len')\n",
    "plt.axvline(x=readmission_notes_len_cutoff, color='k', linestyle='--', label='notes len cutoff')\n",
    "plt.title('CLINICAL NOTES TOKENIZED & PROCESSED TEXT LENGTH - BALANCE READMISSION DATASET'); \n",
    "plt.legend()\n",
    "plt.show()\n"
   ]
  },
  {
   "cell_type": "markdown",
   "metadata": {},
   "source": [
    "## DOWNSAMPLE THE MAJORITY CLASS TO 30-DAY READMISSION SAMPLE \n",
    "### BALANCED SAMPLE DATASET"
   ]
  },
  {
   "cell_type": "code",
   "execution_count": 17,
   "metadata": {},
   "outputs": [
    {
     "name": "stdout",
     "output_type": "stream",
     "text": [
      "[2023/11/13 18:59:06] - READMISSION_30DAYS\n",
      "1    962\n",
      "0    962\n",
      "Name: count, dtype: int64\n"
     ]
    }
   ],
   "source": [
    "\n",
    "# Separate majority and minority classes\n",
    "hf_30day_readmission_notes_majority = hf_admission_notes_with_labels[hf_admission_notes_with_labels.READMISSION_30DAYS == 0]\n",
    "hf_30day_readmission_notes_minority = hf_admission_notes_with_labels[hf_admission_notes_with_labels.READMISSION_30DAYS == 1]\n",
    "# Downsample majority class\n",
    "hf_30day_readmission_notes_majority_downsampled = hf_30day_readmission_notes_majority.sample(n=len(hf_30day_readmission_notes_minority), random_state=42)\n",
    "# Combine minority class with downsampled majority class\n",
    "hf_30day_readmission_notes_balanced = pd.concat([hf_30day_readmission_notes_majority_downsampled, hf_30day_readmission_notes_minority])\n",
    "# Shuffle the dataset to prevent the model from learning any order\n",
    "hf_30day_readmission_notes_balanced = hf_30day_readmission_notes_balanced.sample(frac=1, random_state=42).reset_index(drop=True)\n",
    "# Display new class counts\n",
    "print(hf_30day_readmission_notes_balanced.READMISSION_30DAYS.value_counts())"
   ]
  },
  {
   "cell_type": "code",
   "execution_count": 18,
   "metadata": {},
   "outputs": [
    {
     "name": "stdout",
     "output_type": "stream",
     "text": [
      "[2023/11/13 18:59:07] - Avg Tokenized & Processed Notes Length: 1243.0031185031185\n",
      "[2023/11/13 18:59:07] - Max Tokenized & Processed Notes Length: 4147\n",
      "[2023/11/13 18:59:07] - Min Tokenized & Processed Notes Length: 137\n",
      "[2023/11/13 18:59:07] - Std Tokenized & Processed Notes Length: 513.3587127506346\n",
      "[2023/11/13 18:59:07] - 3000\n"
     ]
    },
    {
     "data": {
      "text/html": [
       "<div>\n",
       "<style scoped>\n",
       "    .dataframe tbody tr th:only-of-type {\n",
       "        vertical-align: middle;\n",
       "    }\n",
       "\n",
       "    .dataframe tbody tr th {\n",
       "        vertical-align: top;\n",
       "    }\n",
       "\n",
       "    .dataframe thead th {\n",
       "        text-align: right;\n",
       "    }\n",
       "</style>\n",
       "<table border=\"1\" class=\"dataframe\">\n",
       "  <thead>\n",
       "    <tr style=\"text-align: right;\">\n",
       "      <th></th>\n",
       "      <th>HADM_ID</th>\n",
       "      <th>SUBJECT_ID</th>\n",
       "      <th>TEXT</th>\n",
       "      <th>DESCRIPTION</th>\n",
       "      <th>ADMITTIME</th>\n",
       "      <th>READMISSION</th>\n",
       "      <th>READMISSION_30DAYS</th>\n",
       "      <th>TEXT_LEN</th>\n",
       "      <th>TOKENIZED_PROCESSED_TEXT</th>\n",
       "      <th>TOKENIZED_PROCESSED_TEXT_LEN</th>\n",
       "    </tr>\n",
       "  </thead>\n",
       "  <tbody>\n",
       "    <tr>\n",
       "      <th>0</th>\n",
       "      <td>165332</td>\n",
       "      <td>32348</td>\n",
       "      <td>Admission Date:  [**2145-7-13**]              ...</td>\n",
       "      <td>Report</td>\n",
       "      <td>2145-07-13 00:59:00</td>\n",
       "      <td>1</td>\n",
       "      <td>1</td>\n",
       "      <td>1985</td>\n",
       "      <td>sex service medicine allergies clonidine atten...</td>\n",
       "      <td>1366</td>\n",
       "    </tr>\n",
       "    <tr>\n",
       "      <th>1</th>\n",
       "      <td>170535</td>\n",
       "      <td>30348</td>\n",
       "      <td>Admission Date:  [**2185-12-28**]             ...</td>\n",
       "      <td>Report</td>\n",
       "      <td>2185-12-28 13:15:00</td>\n",
       "      <td>1</td>\n",
       "      <td>1</td>\n",
       "      <td>1215</td>\n",
       "      <td>service medicine allergies sulfa sulfonamides ...</td>\n",
       "      <td>855</td>\n",
       "    </tr>\n",
       "    <tr>\n",
       "      <th>2</th>\n",
       "      <td>111925</td>\n",
       "      <td>69265</td>\n",
       "      <td>Admission Date:  [**2194-5-15**]              ...</td>\n",
       "      <td>Report</td>\n",
       "      <td>2194-05-15 17:42:00</td>\n",
       "      <td>0</td>\n",
       "      <td>0</td>\n",
       "      <td>2478</td>\n",
       "      <td>sex service medicine allergies known allergies...</td>\n",
       "      <td>1328</td>\n",
       "    </tr>\n",
       "    <tr>\n",
       "      <th>3</th>\n",
       "      <td>128989</td>\n",
       "      <td>27043</td>\n",
       "      <td>Admission Date:  [**2141-10-21**]             ...</td>\n",
       "      <td>Report</td>\n",
       "      <td>2141-10-21 06:35:00</td>\n",
       "      <td>0</td>\n",
       "      <td>0</td>\n",
       "      <td>1682</td>\n",
       "      <td>sex service medicine allergies patient recorde...</td>\n",
       "      <td>1233</td>\n",
       "    </tr>\n",
       "    <tr>\n",
       "      <th>4</th>\n",
       "      <td>147206</td>\n",
       "      <td>75031</td>\n",
       "      <td>Admission Date:  [**2198-3-28**]              ...</td>\n",
       "      <td>Report</td>\n",
       "      <td>2198-03-28 01:09:00</td>\n",
       "      <td>0</td>\n",
       "      <td>0</td>\n",
       "      <td>2592</td>\n",
       "      <td>sex service medicine allergies patient recorde...</td>\n",
       "      <td>1677</td>\n",
       "    </tr>\n",
       "  </tbody>\n",
       "</table>\n",
       "</div>"
      ],
      "text/plain": [
       "   HADM_ID  SUBJECT_ID                                               TEXT  \\\n",
       "0   165332       32348  Admission Date:  [**2145-7-13**]              ...   \n",
       "1   170535       30348  Admission Date:  [**2185-12-28**]             ...   \n",
       "2   111925       69265  Admission Date:  [**2194-5-15**]              ...   \n",
       "3   128989       27043  Admission Date:  [**2141-10-21**]             ...   \n",
       "4   147206       75031  Admission Date:  [**2198-3-28**]              ...   \n",
       "\n",
       "  DESCRIPTION            ADMITTIME  READMISSION  READMISSION_30DAYS  TEXT_LEN  \\\n",
       "0      Report  2145-07-13 00:59:00            1                   1      1985   \n",
       "1      Report  2185-12-28 13:15:00            1                   1      1215   \n",
       "2      Report  2194-05-15 17:42:00            0                   0      2478   \n",
       "3      Report  2141-10-21 06:35:00            0                   0      1682   \n",
       "4      Report  2198-03-28 01:09:00            0                   0      2592   \n",
       "\n",
       "                            TOKENIZED_PROCESSED_TEXT  \\\n",
       "0  sex service medicine allergies clonidine atten...   \n",
       "1  service medicine allergies sulfa sulfonamides ...   \n",
       "2  sex service medicine allergies known allergies...   \n",
       "3  sex service medicine allergies patient recorde...   \n",
       "4  sex service medicine allergies patient recorde...   \n",
       "\n",
       "   TOKENIZED_PROCESSED_TEXT_LEN  \n",
       "0                          1366  \n",
       "1                           855  \n",
       "2                          1328  \n",
       "3                          1233  \n",
       "4                          1677  "
      ]
     },
     "metadata": {},
     "output_type": "display_data"
    },
    {
     "name": "stderr",
     "output_type": "stream",
     "text": [
      "c:\\Users\\ssiddiqui\\OneDrive\\Education\\GT-OMSA\\CSE-6250-Big-Data-Health\\Project\\BD4H_FINAL\\bd4h_final_proj\\Lib\\site-packages\\seaborn\\_oldcore.py:1498: FutureWarning: is_categorical_dtype is deprecated and will be removed in a future version. Use isinstance(dtype, CategoricalDtype) instead\n",
      "  if pd.api.types.is_categorical_dtype(vector):\n",
      "c:\\Users\\ssiddiqui\\OneDrive\\Education\\GT-OMSA\\CSE-6250-Big-Data-Health\\Project\\BD4H_FINAL\\bd4h_final_proj\\Lib\\site-packages\\seaborn\\_oldcore.py:1119: FutureWarning: use_inf_as_na option is deprecated and will be removed in a future version. Convert inf values to NaN before operating instead.\n",
      "  with pd.option_context('mode.use_inf_as_na', True):\n"
     ]
    },
    {
     "data": {
      "image/png": "[encoded data removed]",
      "text/plain": [
       "<Figure size 640x480 with 1 Axes>"
      ]
     },
     "metadata": {},
     "output_type": "display_data"
    }
   ],
   "source": [
    "#rule of thumb from statistics that approximately 99.7% of data points in a normally distributed dataset lie within three standard deviations of the mean\n",
    "#max_text_len_readmission = np.round(hf_readmission_notes_balanced['TEXT_LEN'].mean() + 3*hf_readmission_notes_balanced['TEXT_LEN'].std()).astype(int) \n",
    "#print(max_text_len_readmission)\n",
    "\n",
    "#Instead of using the mean and standard deviation, consider using the median and interquartile range (IQR) to set max_seq_len,\n",
    "# since the median and IQR are more robust to skewed data and outliers.\n",
    "\n",
    "q85, q25 = np.percentile(hf_30day_readmission_notes_balanced['TOKENIZED_PROCESSED_TEXT_LEN'], [85 ,25])\n",
    "iqr = q85 - q25\n",
    "_30dayreadmission_notes_cutoff = np.round(q85 + (1.5 * iqr)).astype(int) # Adjust 1.5 based on how inclusive you want to be of the outlier data.\n",
    "\n",
    "\n",
    "print(f\"Avg Tokenized & Processed Notes Length: {hf_30day_readmission_notes_balanced['TOKENIZED_PROCESSED_TEXT_LEN'].mean()}\")\n",
    "print(f\"Max Tokenized & Processed Notes Length: {hf_30day_readmission_notes_balanced['TOKENIZED_PROCESSED_TEXT_LEN'].max()}\")\n",
    "print(f\"Min Tokenized & Processed Notes Length: {hf_30day_readmission_notes_balanced['TOKENIZED_PROCESSED_TEXT_LEN'].min()}\")\n",
    "print(f\"Std Tokenized & Processed Notes Length: {hf_30day_readmission_notes_balanced['TOKENIZED_PROCESSED_TEXT_LEN'].std()}\")\n",
    "print(_30dayreadmission_notes_cutoff)\n",
    "display(hf_30day_readmission_notes_balanced.head(5))\n",
    "\n",
    "#https://gist.github.com/mwaskom/de44147ed2974457ad6372750bbe5751\n",
    "sns.histplot(hf_30day_readmission_notes_balanced['TOKENIZED_PROCESSED_TEXT_LEN'], kde=True, stat=\"density\", color='b', label='notes len')\n",
    "plt.axvline(x=_30dayreadmission_notes_cutoff, color='k', linestyle='--', label='notes len cutoff')\n",
    "plt.title('CLINICAL NOTES TOKENIZED & PROCESSED TEXT LENGTH - BALANCE 30 DAY READMISSION DATASET'); plt.legend()\n",
    "plt.show()\n"
   ]
  },
  {
   "cell_type": "markdown",
   "metadata": {},
   "source": [
    "## SPLIT DATA IN TRAIN TEST"
   ]
  },
  {
   "cell_type": "markdown",
   "metadata": {},
   "source": [
    "### READMISSION BALANCED DATASET 90/10 SPLIT "
   ]
  },
  {
   "cell_type": "code",
   "execution_count": 19,
   "metadata": {},
   "outputs": [
    {
     "name": "stdout",
     "output_type": "stream",
     "text": [
      "[2023/11/13 18:59:07] - readmission_notes_features Shape: (2834, 1)\n",
      "[2023/11/13 18:59:07] - X_readmission_train Shape: (2550, 1)\n",
      "[2023/11/13 18:59:07] - X_readmission_test Shape: (284, 1)\n",
      "[2023/11/13 18:59:07] - y_readmission_train Shape: (2550,)\n",
      "[2023/11/13 18:59:07] - y_readmission_test Shape: (284,)\n"
     ]
    }
   ],
   "source": [
    "## READMISSION BALANCED DATASET 90/10 SPLIT \n",
    "readmission_notes_features = hf_readmission_notes_balanced[[\"TOKENIZED_PROCESSED_TEXT\"]]\n",
    "readmission_notes_target = hf_readmission_notes_balanced[\"READMISSION\"]\n",
    "X_readmission_train, X_readmission_test, y_readmission_train, y_readmission_test = train_test_split(readmission_notes_features, readmission_notes_target, test_size=0.1, random_state=42)\n",
    "\n",
    "print(f\"readmission_notes_features Shape: {readmission_notes_features.shape}\")\n",
    "print(f\"X_readmission_train Shape: {X_readmission_train.shape}\")\n",
    "print(f\"X_readmission_test Shape: {X_readmission_test.shape}\")\n",
    "print(f\"y_readmission_train Shape: {y_readmission_train.shape}\")\n",
    "print(f\"y_readmission_test Shape: {y_readmission_test.shape}\")\n"
   ]
  },
  {
   "cell_type": "code",
   "execution_count": 20,
   "metadata": {},
   "outputs": [
    {
     "name": "stdout",
     "output_type": "stream",
     "text": [
      "[2023/11/13 18:59:07] - readmission_notes_features Shape: (1924, 1)\n",
      "[2023/11/13 18:59:07] - X_readmission_train Shape: (1731, 1)\n",
      "[2023/11/13 18:59:07] - X_readmission_test Shape: (193, 1)\n",
      "[2023/11/13 18:59:07] - y_readmission_train Shape: (1731,)\n",
      "[2023/11/13 18:59:07] - y_readmission_test Shape: (193,)\n"
     ]
    }
   ],
   "source": [
    "## 30-DAY READMISSION BALANCED DATASET 90/10 SPLIT \n",
    "_30day_readmission_notes_features = hf_30day_readmission_notes_balanced[[\"TOKENIZED_PROCESSED_TEXT\"]]\n",
    "_30day_readmission_notes_target = hf_30day_readmission_notes_balanced[\"READMISSION_30DAYS\"]\n",
    "X_30day_readmission_train, X_30day_readmission_test, y_30day_readmission_train, y_30day_readmission_test = train_test_split(_30day_readmission_notes_features, _30day_readmission_notes_target, test_size=0.1, random_state=42)\n",
    "\n",
    "print(f\"readmission_notes_features Shape: {_30day_readmission_notes_features.shape}\")\n",
    "print(f\"X_readmission_train Shape: {X_30day_readmission_train.shape}\")\n",
    "print(f\"X_readmission_test Shape: {X_30day_readmission_test.shape}\")\n",
    "print(f\"y_readmission_train Shape: {y_30day_readmission_train.shape}\")\n",
    "print(f\"y_readmission_test Shape: {y_30day_readmission_test.shape}\")"
   ]
  },
  {
   "cell_type": "markdown",
   "metadata": {},
   "source": [
    "# LOAD PUBMED & PMC WORD2VEC MODEL INTO MEMORY"
   ]
  },
  {
   "cell_type": "code",
   "execution_count": 21,
   "metadata": {},
   "outputs": [
    {
     "name": "stdout",
     "output_type": "stream",
     "text": [
      "[2023/11/13 18:59:32] - PubMed & PMC vector model was successfully loaded in 23.97 sec\n"
     ]
    }
   ],
   "source": [
    "# Load the Word2Ven model (substitute with the path to your downloaded vectors)\n",
    "# The model can be downloaded from: https://bio.nlplab.org/#word-vector-tools\n",
    "# Word vectors > http://evexdb.org/pmresources/vec-space-models/\n",
    "#PubMed abstract and PMC full text vector model  = './vector_embeddings/PubMed-and-PMC-w2v.bin'\n",
    "\n",
    "## This is large file, I did not check into Github repository, please download it from the above location and place it in vector_embeddings folder\n",
    "\n",
    "start_time = time.time()\n",
    "pubmed_pmc_wordvector_path = './vector_embeddings/PubMed-and-PMC-w2v.bin'\n",
    "pubmed_pmc_wordvector = KeyedVectors.load_word2vec_format(pubmed_pmc_wordvector_path, binary=True)\n",
    "end_time = time.time()\n",
    "pubmed_pmc_wordvector_model_load_elapsed_time = round(end_time - start_time,4)\n",
    "print(f'PubMed & PMC vector model was successfully loaded in {utility.parse_time(pubmed_pmc_wordvector_model_load_elapsed_time)}')"
   ]
  },
  {
   "cell_type": "code",
   "execution_count": 22,
   "metadata": {},
   "outputs": [
    {
     "data": {
      "text/plain": [
       "200"
      ]
     },
     "execution_count": 22,
     "metadata": {},
     "output_type": "execute_result"
    }
   ],
   "source": [
    "pubmed_pmc_wordvector.vector_size"
   ]
  },
  {
   "cell_type": "code",
   "execution_count": 23,
   "metadata": {},
   "outputs": [
    {
     "data": {
      "text/plain": [
       "200"
      ]
     },
     "execution_count": 23,
     "metadata": {},
     "output_type": "execute_result"
    }
   ],
   "source": [
    "## 200 dimension vector embeddings\n",
    "len(pubmed_pmc_wordvector[\"in\"])"
   ]
  },
  {
   "cell_type": "code",
   "execution_count": 24,
   "metadata": {},
   "outputs": [
    {
     "name": "stdout",
     "output_type": "stream",
     "text": [
      "[2023/11/13 18:59:49] - (2550, 2953, 200)\n"
     ]
    }
   ],
   "source": [
    "\n",
    "def get_embedding_vector(word, model):\n",
    "    # This function returns the embedding vector for a word from the pre-trained model\n",
    "    try:\n",
    "        return model[word]\n",
    "    except KeyError:\n",
    "        # If the word is not in the model, return a zero vector\n",
    "        return np.zeros(model.vector_size)\n",
    "\n",
    "# Initialize an empty list to hold all record embeddings\n",
    "X_readmission_train_embeddings = []\n",
    "\n",
    "# Iterate over each record in the DataFrame\n",
    "for _, row in X_readmission_train.iterrows():\n",
    "    # Initialize the embedding matrix for this record with zeros\n",
    "    notes_embedding_matrix = np.zeros((readmission_notes_len_cutoff, pubmed_pmc_wordvector.vector_size))\n",
    "    \n",
    "    # Iterate over the tokenized words up to the fixed_length\n",
    "    for i, word in enumerate(row['TOKENIZED_PROCESSED_TEXT'][:readmission_notes_len_cutoff]):\n",
    "        # Get the embedding vector for the word\n",
    "        notes_embedding_matrix[i] = get_embedding_vector(word, pubmed_pmc_wordvector)\n",
    "    \n",
    "    # Add the record's embedding matrix to the list\n",
    "    X_readmission_train_embeddings.append(notes_embedding_matrix)\n",
    "\n",
    "# Convert the list of embeddings into a 3D NumPy array\n",
    "X_readmission_train_embedding_stacked = np.stack(X_readmission_train_embeddings)\n",
    "print(X_readmission_train_embedding_stacked.shape)\n",
    "# Now `embedding_tensor` is a 3D tensor of shape (number_of_records, fixed_length, embedding_dimension)\n"
   ]
  },
  {
   "cell_type": "code",
   "execution_count": null,
   "metadata": {},
   "outputs": [],
   "source": [
    "# Initialize an empty list to hold all record embeddings\n",
    "X_readmission_test_embeddings = []\n",
    "\n",
    "# Iterate over each record in the DataFrame\n",
    "for _, row in X_readmission_test.iterrows():\n",
    "    # Initialize the embedding matrix for this record with zeros\n",
    "    notes_embedding_matrix = np.zeros((readmission_notes_len_cutoff, pubmed_pmc_wordvector.vector_size))\n",
    "    \n",
    "    # Iterate over the tokenized words up to the fixed_length\n",
    "    for i, word in enumerate(row['TOKENIZED_PROCESSED_TEXT'][:readmission_notes_len_cutoff]):\n",
    "        # Get the embedding vector for the word\n",
    "        notes_embedding_matrix[i] = get_embedding_vector(word, pubmed_pmc_wordvector)\n",
    "    \n",
    "    # Add the record's embedding matrix to the list\n",
    "    X_readmission_test_embeddings.append(notes_embedding_matrix)\n",
    "\n",
    "# Convert the list of embeddings into a 3D NumPy array\n",
    "X_readmission_test_embedding_stacked = np.stack(X_readmission_test_embeddings)\n",
    "print(X_readmission_test_embedding_stacked.shape)\n"
   ]
  },
  {
   "cell_type": "code",
   "execution_count": 26,
   "metadata": {},
   "outputs": [
    {
     "data": {
      "text/plain": [
       "2953"
      ]
     },
     "execution_count": 26,
     "metadata": {},
     "output_type": "execute_result"
    }
   ],
   "source": [
    "readmission_notes_len_cutoff"
   ]
  },
  {
   "cell_type": "code",
   "execution_count": 30,
   "metadata": {},
   "outputs": [
    {
     "data": {
      "text/plain": [
       "torch.Size([2550, 1, 2953, 200])"
      ]
     },
     "execution_count": 30,
     "metadata": {},
     "output_type": "execute_result"
    }
   ],
   "source": [
    "X_readmission_train_embedding_tensor = torch.from_numpy(X_readmission_train_embedding_stacked).unsqueeze(1)\n",
    "#target = torch.from_numpy(target.astype('long')).view(-1,1)\n",
    "train_target_readmission = torch.from_numpy(y_readmission_train.values)\n",
    "readmission_train_dataset = TensorDataset(X_readmission_train_embedding_tensor, train_target_readmission)\n",
    "X_readmission_train_embedding_tensor.shape"
   ]
  },
  {
   "cell_type": "code",
   "execution_count": 31,
   "metadata": {},
   "outputs": [
    {
     "name": "stdout",
     "output_type": "stream",
     "text": [
      "[2023/11/13 19:03:06] - Embedding: torch.Size([1, 2953, 200]), Label: 1\n",
      "[2023/11/13 19:03:06] - Embedding: torch.Size([1, 2953, 200]), Label: 1\n",
      "[2023/11/13 19:03:06] - Embedding: torch.Size([1, 2953, 200]), Label: 1\n",
      "[2023/11/13 19:03:06] - Embedding: torch.Size([1, 2953, 200]), Label: 0\n",
      "[2023/11/13 19:03:06] - Embedding: torch.Size([1, 2953, 200]), Label: 1\n"
     ]
    }
   ],
   "source": [
    "for i in range(min(5, len(readmission_train_dataset))):\n",
    "    embedding, label = readmission_train_dataset[i]\n",
    "    print(f\"Embedding: {embedding.shape}, Label: {label}\")"
   ]
  },
  {
   "cell_type": "code",
   "execution_count": null,
   "metadata": {},
   "outputs": [],
   "source": []
  },
  {
   "cell_type": "code",
   "execution_count": null,
   "metadata": {},
   "outputs": [],
   "source": [
    "X_readmission_test_embedding_tensor = torch.from_numpy(X_readmission_test_embedding_stacked).unsqueeze(1)\n",
    "#target = torch.from_numpy(target.astype('long')).view(-1,1)\n",
    "test_target_readmission = torch.from_numpy(y_readmission_test.values)\n",
    "readmission_test_dataset = TensorDataset(X_readmission_test_embedding_tensor, test_target_readmission)\n",
    "X_readmission_test_embedding_tensor.shape"
   ]
  },
  {
   "cell_type": "code",
   "execution_count": null,
   "metadata": {},
   "outputs": [],
   "source": [
    "import torch\n",
    "import torch.nn as nn\n",
    "import torch.nn.functional as F\n",
    "\n",
    "class ReadmissionCNN(nn.Module):\n",
    "    def __init__(self, n_filters, filter_sizes, output_dim, dropout, embedding_dim):\n",
    "        super().__init__()\n",
    "        \n",
    "        # Since we already have embeddings, we won't use an embedding layer\n",
    "        # self.embedding = nn.Embedding(vocab_size, embedding_dim)\n",
    "        \n",
    "        # Convolutional layers with in_channels=1 because our input is not an image but an embedded text\n",
    "        self.convs = nn.ModuleList([\n",
    "                                    nn.Conv2d(in_channels=1,\n",
    "                                              out_channels=n_filters,\n",
    "                                              kernel_size=(fs, embedding_dim)) \n",
    "                                    for fs in filter_sizes\n",
    "                                    ])\n",
    "        \n",
    "        # Fully connected layer\n",
    "        self.fc = nn.Linear(len(filter_sizes) * n_filters, output_dim)\n",
    "        \n",
    "        # Dropout layer\n",
    "        self.dropout = nn.Dropout(dropout)\n",
    "\n",
    "    def forward(self, embedded):\n",
    "        # embedded is already a tensor with size [batch size, notes len, emb dim]\n",
    "        # We add an extra dimension for the \"channel\" which is 1 here\n",
    "        #embedded = embedded.unsqueeze(1)\n",
    "        # embedded = [batch size, 1, notes len, emb dim]\n",
    "        \n",
    "        # Convolution and pooling layers\n",
    "        conved = [F.relu(conv(embedded)).squeeze(3) for conv in self.convs]\n",
    "        # conved_n = [batch size, n_filters, sent len - filter_sizes[n] + 1]\n",
    "        \n",
    "        # Max pooling over time\n",
    "        pooled = [F.max_pool1d(conv, conv.shape[2]).squeeze(2) for conv in conved]\n",
    "        # pooled_n = [batch size, n_filters]\n",
    "        \n",
    "        # Concatenate the pooled features from different filter sizes\n",
    "        cat = self.dropout(torch.cat(pooled, dim=1))\n",
    "        # cat = [batch size, n_filters * len(filter_sizes)]\n",
    "        \n",
    "        # Fully connected layer\n",
    "        return self.fc(cat)\n",
    "\n",
    "class AverageMeter(object):\n",
    "\t\"\"\"Computes and stores the average and current value\"\"\"\n",
    "\n",
    "\tdef __init__(self):\n",
    "\t\tself.reset()\n",
    "\n",
    "\tdef reset(self):\n",
    "\t\tself.val = 0\n",
    "\t\tself.avg = 0\n",
    "\t\tself.sum = 0\n",
    "\t\tself.count = 0\n",
    "\n",
    "\tdef update(self, val, n=1):\n",
    "\t\tself.val = val\n",
    "\t\tself.sum += val * n\n",
    "\t\tself.count += n\n",
    "\t\tself.avg = self.sum / self.count\n",
    "\n",
    "\n"
   ]
  },
  {
   "cell_type": "code",
   "execution_count": null,
   "metadata": {},
   "outputs": [],
   "source": [
    "def compute_batch_accuracy(output, target):\n",
    "\t\"\"\"Computes the accuracy for a batch\"\"\"\n",
    "\twith torch.no_grad():\n",
    "\n",
    "\t\tbatch_size = target.size(0)\n",
    "\t\t_, pred = output.max(1)\n",
    "\t\tcorrect = pred.eq(target).sum()\n",
    "\n",
    "\t\treturn correct * 100.0 / batch_size    \n",
    "\t\n",
    "def train(model, device, data_loader, criterion, optimizer, epoch, print_freq=10):\n",
    "\tbatch_time = AverageMeter()\n",
    "\tdata_time = AverageMeter()\n",
    "\tlosses = AverageMeter()\n",
    "\taccuracy = AverageMeter()\n",
    "\n",
    "\tmodel.train()\n",
    "\n",
    "\tend = time.time()\n",
    "\tfor i, (input_data, target) in enumerate(data_loader):\n",
    "\t\t# measure data loading time\n",
    "\t\tdata_time.update(time.time() - end)\n",
    "\n",
    "\t\tinput_data = input_data.float()\n",
    "\n",
    "\t\tif isinstance(input_data, tuple):\n",
    "\t\t\tinput_data = tuple([e.to(device) if type(e) == torch.Tensor else e for e in input_data])\n",
    "\t\telse:\n",
    "\t\t\tinput_data = input_data.to(device)\n",
    "\t\t\t\n",
    "\t\ttarget = target.to(device)\n",
    "\n",
    "\t\toptimizer.zero_grad()\n",
    "\t\toutput = model(input_data)\n",
    "\t\tloss = criterion(output, target)\n",
    "\t\tassert not np.isnan(loss.item()), 'Model diverged with loss = NaN'\n",
    "\n",
    "\t\tloss.backward()\n",
    "\t\toptimizer.step()\n",
    "\n",
    "\t\t# measure elapsed time\n",
    "\t\tbatch_time.update(time.time() - end)\n",
    "\t\tend = time.time()\n",
    "\n",
    "\t\tlosses.update(loss.item(), target.size(0))\n",
    "\t\taccuracy.update(compute_batch_accuracy(output, target).item(), target.size(0))\n",
    "\n",
    "\t\tif i % print_freq == 0:\n",
    "\t\t\tprint('Epoch: [{0}][{1}/{2}]\\t'\n",
    "\t\t\t\t  'Time {batch_time.val:.3f} ({batch_time.avg:.3f})\\t'\n",
    "\t\t\t\t  'Data {data_time.val:.3f} ({data_time.avg:.3f})\\t'\n",
    "\t\t\t\t  'Loss {loss.val:.4f} ({loss.avg:.4f})\\t'\n",
    "\t\t\t\t  'Accuracy {acc.val:.3f} ({acc.avg:.3f})'.format(\n",
    "\t\t\t\tepoch, i, len(data_loader), batch_time=batch_time,\n",
    "\t\t\t\tdata_time=data_time, loss=losses, acc=accuracy))\n",
    "\n",
    "\treturn losses.avg, accuracy.avg\n",
    "\n",
    "def evaluate(model, device, data_loader, criterion, print_freq=10):\n",
    "\tbatch_time = AverageMeter()\n",
    "\tlosses = AverageMeter()\n",
    "\taccuracy = AverageMeter()\n",
    "\n",
    "\tresults = []\n",
    "\n",
    "\tmodel.eval()\n",
    "\n",
    "\twith torch.no_grad():\n",
    "\t\tend = time.time()\n",
    "\t\tfor i, (input_data, target) in enumerate(data_loader):\n",
    "\t\t\t\n",
    "\t\t\tinput_data = input_data.float()\n",
    "\t\t\tif isinstance(input_data, tuple):\n",
    "\t\t\t\tinput_data = tuple([e.to(device) if type(e) == torch.Tensor else e for e in input_data])\n",
    "\t\t\telse:\n",
    "\t\t\t\tinput_data = input_data.to(device)\n",
    "\t\t\t\n",
    "\t\t\ttarget = target.to(device)\n",
    "\t\t\t#print(f'target:{target}')\n",
    "\t\t\t#print(f'input shape: {input[0].shape}')\n",
    "\n",
    "\t\t\toutput = model(input_data)\n",
    "\t\t\t#print(f'output: {output}')\n",
    "\t\t\tloss = criterion(output, target)\n",
    "\n",
    "\t\t\t# measure elapsed time\n",
    "\t\t\tbatch_time.update(time.time() - end)\n",
    "\t\t\tend = time.time()\n",
    "\n",
    "\t\t\tlosses.update(loss.item(), target.size(0))\n",
    "\t\t\taccuracy.update(compute_batch_accuracy(output, target).item(), target.size(0))\n",
    "\n",
    "\t\t\ty_true = target.detach().to('cpu').numpy().tolist()\n",
    "\t\t\ty_pred = output.detach().to('cpu').max(1)[1].numpy().tolist()\n",
    "\t\t\tresults.extend(list(zip(y_true, y_pred)))\n",
    "\n",
    "\t\t\tif i % print_freq == 0:\n",
    "\t\t\t\tprint('Test: [{0}/{1}]\\t'\n",
    "\t\t\t\t\t  'Time {batch_time.val:.3f} ({batch_time.avg:.3f})\\t'\n",
    "\t\t\t\t\t  'Loss {loss.val:.4f} ({loss.avg:.4f})\\t'\n",
    "\t\t\t\t\t  'Accuracy {acc.val:.3f} ({acc.avg:.3f})'.format(\n",
    "\t\t\t\t\ti, len(data_loader), batch_time=batch_time, loss=losses, acc=accuracy))\n",
    "\n",
    "\treturn losses.avg, accuracy.avg, results"
   ]
  },
  {
   "cell_type": "code",
   "execution_count": null,
   "metadata": {},
   "outputs": [],
   "source": [
    "\n",
    "\n",
    "BATCH_SIZE = 32\n",
    "USE_CUDA = True  # Set 'True' if you want to use GPU\n",
    "NUM_WORKERS = 0  # Number of threads used by DataLoader. You can adjust this according to your machine spec.\n",
    "train_loader_readmission = torch.utils.data.DataLoader(readmission_train_dataset, batch_size=BATCH_SIZE, shuffle=True, num_workers=NUM_WORKERS)\n",
    "test_loader_readmission = torch.utils.data.DataLoader(readmission_test_dataset, batch_size=BATCH_SIZE, shuffle=False, num_workers=NUM_WORKERS)\n",
    "\n",
    "#from ReadmissionCNN import *\n",
    "PATH_OUTPUT = \"./output/readmission/\"\n",
    "\n",
    "# Hyperparameters\n",
    "N_FILTERS = 100  # number of filters\n",
    "FILTER_SIZES = [3, 4, 5]  # list of filter sizes\n",
    "OUTPUT_DIM = 2  # number of output classes, adjust according to your task\n",
    "DROPOUT = 0.3  # dropout rate\n",
    "EMBEDDING_DIM = 200  # embedding dimension\n",
    "\n",
    "# Create an instance of the CNN class\n",
    "cnn_readmission_model = ReadmissionCNN(N_FILTERS, FILTER_SIZES, OUTPUT_DIM, DROPOUT, EMBEDDING_DIM)\n",
    "\n",
    "# Move the model to GPU if available\n",
    "device = torch.device('cuda' if torch.cuda.is_available() else 'cpu')\n",
    "cnn_readmission_model = cnn_readmission_model.to(device)\n",
    "\n",
    "# Define loss function and optimizer\n",
    "criterion = nn.CrossEntropyLoss().to(device)\n",
    "optimizer = torch.optim.Adam(cnn_readmission_model.parameters())\n",
    "\n",
    "\n",
    "NUM_EPOCHS = 20\n",
    "best_val_acc = 0.0\n",
    "train_losses, train_accuracies = [], []\n",
    "valid_losses, valid_accuracies = [], []\n",
    "for epoch in range(NUM_EPOCHS):\n",
    "\ttrain_loss, train_accuracy = train(cnn_readmission_model, device, train_loader_readmission, criterion, optimizer, epoch)\n",
    "\tvalid_loss, valid_accuracy, valid_results = evaluate(cnn_readmission_model, device, test_loader_readmission, criterion)\n",
    "\n",
    "\ttrain_losses.append(train_loss)\n",
    "\tvalid_losses.append(valid_loss)\n",
    "\n",
    "\ttrain_accuracies.append(train_accuracy)\n",
    "\tvalid_accuracies.append(valid_accuracy)\n",
    "\n",
    "\tis_best = valid_accuracy > best_val_acc  # let's keep the model that has the best accuracy, but you can also use another metric.\n",
    "\tif is_best:\n",
    "\t\tprint(f\"Best Validation Accuracy: {valid_accuracy}\")\n",
    "\t\tbest_val_acc = valid_accuracy\n",
    "\t\ttorch.save(cnn_readmission_model, os.path.join(PATH_OUTPUT, \"cnn_readmission_model.pth\"), _use_new_zipfile_serialization=False)\n",
    "\n"
   ]
  },
  {
   "cell_type": "code",
   "execution_count": null,
   "metadata": {},
   "outputs": [],
   "source": [
    "from sklearn.feature_extraction.text import TfidfVectorizer\n",
    "from sklearn.ensemble import RandomForestClassifier\n",
    "from sklearn.metrics import classification_report, accuracy_score, precision_recall_fscore_support, f1_score\n",
    "\n",
    "utility.plot_learning_curves(train_losses, valid_losses, train_accuracies, valid_accuracies)\n",
    "\n",
    "best_cnn_readmission_model = torch.load(os.path.join(PATH_OUTPUT, \"cnn_readmission_model.pth\"))\n",
    "valid_loss, valid_accuracy, valid_results = evaluate(cnn_readmission_model, device, test_loader_readmission, criterion)\n",
    "\n",
    "class_names = [0,1]\n",
    "utility.plot_confusion_matrix(valid_results, class_names)\n",
    "\n",
    "y_true, y_pred = zip(*valid_results)\n",
    "#print(np.unique(y_true))\n",
    "#print(np.unique(y_pred))\n",
    "\n",
    "print(f\"Maximum train accuracy: {np.max(train_accuracies)}\")\n",
    "print(f\"Maximum test accuracy: {np.max(valid_accuracies)}\")\n",
    "#print(len(valid_results))\n",
    "#print(np.where([(yt==yp) for yt,yp in valid_results])[0].shape[0]/len(valid_results))\n",
    "print(classification_report(y_true, y_pred))\n",
    "print(\"Accuracy:\", accuracy_score(y_true, y_pred))\n",
    "print(\"F1 Score:\", f1_score(y_true, y_pred, average='binary'))"
   ]
  },
  {
   "cell_type": "code",
   "execution_count": null,
   "metadata": {},
   "outputs": [],
   "source": []
  },
  {
   "cell_type": "markdown",
   "metadata": {},
   "source": [
    "## Random Forest"
   ]
  },
  {
   "cell_type": "code",
   "execution_count": null,
   "metadata": {},
   "outputs": [],
   "source": [
    "from sklearn.feature_extraction.text import TfidfVectorizer\n",
    "from sklearn.model_selection import train_test_split\n",
    "from sklearn.ensemble import RandomForestClassifier\n",
    "from sklearn.metrics import f1_score, accuracy_score\n",
    "from imblearn.ensemble import BalancedRandomForestClassifier\n",
    "from sklearn.metrics import precision_score, recall_score, f1_score, accuracy_score\n",
    "import seaborn as sns"
   ]
  },
  {
   "cell_type": "markdown",
   "metadata": {},
   "source": [
    "## Balanced Data Random Forest "
   ]
  },
  {
   "cell_type": "code",
   "execution_count": null,
   "metadata": {},
   "outputs": [],
   "source": [
    "# Initialize lists to collect metrics\n",
    "# its decision trees so they typically get like 100% acccuracy/F1 on training, not interesting to view \n",
    "\n",
    "\n",
    "v = TfidfVectorizer()\n",
    "tfidf_scores = v.fit_transform(hf_readmission_notes_balanced['TEXT'])\n",
    "y = hf_readmission_notes_balanced['READMISSION']\n",
    "X_train, X_test, y_train, y_test = train_test_split(tfidf_scores, y, test_size=0.1, random_state=6250, stratify=y)\n",
    "\n",
    "\n",
    "f1s = [] \n",
    "accuracies = []\n",
    "estimators = [1, 10, 25, 50, 100]\n",
    "max_feats = [10000, 15000, 20000, 25000]\n",
    "\n",
    "for feats in max_feats:\n",
    "    for estimator in estimators:\n",
    "        random_forest_model = RandomForestClassifier(n_estimators=estimator, bootstrap=True, class_weight=\"balanced\", \n",
    "                                                     max_features=feats, random_state=6250)\n",
    "        random_forest_model.fit(X_train, y_train)\n",
    "        y_pred = random_forest_model.predict(X_test)\n",
    "\n",
    "        precision = precision_score(y_test, y_pred)\n",
    "        recall = recall_score(y_test, y_pred)\n",
    "        f1 = f1_score(y_test, y_pred)\n",
    "        accuracy = accuracy_score(y_test, y_pred)\n",
    "\n",
    "        f1s.append(f1)\n",
    "        accuracies.append(accuracy)    \n",
    "        print(f\"Estimators: {estimator} | Features: {feats} | Precision: {precision:.4f} | Recall: {recall:.4f} | Accuracy: {accuracy:.4f} | F1: {f1:.4f}\")"
   ]
  },
  {
   "cell_type": "code",
   "execution_count": null,
   "metadata": {},
   "outputs": [],
   "source": [
    "# Plotting  \n",
    "# rename var to preserve data in memory for experimentation and to not re-run above cell on mistakes... \n",
    "\n",
    "print(len(hf_readmission_notes_balanced))\n",
    "\n",
    "f1_copy = f1s\n",
    "print(f1_copy)\n",
    "#f1_copy.reverse()\n",
    "f1_scores_array = np.array(f1_copy)\n",
    "f1_scores_reshaped = f1_scores_array.reshape(len(max_feats), len(estimators))\n",
    "print(f1_scores_reshaped)\n",
    "df = pd.DataFrame(f1_scores_reshaped, index=max_feats, columns=estimators)\n",
    "\n",
    "# Generate the heatmap\n",
    "plt.clf()\n",
    "plt.figure(figsize=(10, 8))\n",
    "sns.heatmap(df, annot=True, fmt=\".2f\", cbar_kws={'label': 'F1 Score'})\n",
    "plt.title('F1 Scores Heatmap')\n",
    "plt.xlabel('Number of Estimators')\n",
    "plt.ylabel('Max Features')\n",
    "plt.show()\n",
    "plt.clf()"
   ]
  },
  {
   "cell_type": "markdown",
   "metadata": {},
   "source": [
    "## Imbalanced Data Random Forest"
   ]
  },
  {
   "cell_type": "code",
   "execution_count": null,
   "metadata": {},
   "outputs": [],
   "source": [
    "v = TfidfVectorizer()\n",
    "tfidf_scores = v.fit_transform(hf_admission_notes_with_labels['TEXT'])\n",
    "y = hf_admission_notes_with_labels['READMISSION']\n",
    "X_train, X_test, y_train, y_test = train_test_split(tfidf_scores, y, test_size=0.1, random_state=6250, stratify=y)\n",
    "\n",
    "\n",
    "f1s = [] \n",
    "accuracies = []\n",
    "estimators = [1, 10, 25, 50, 100]\n",
    "max_feats = [10000, 15000, 20000, 25000]\n",
    "\n",
    "# Train Balanced Random Forest classifiers with varying numbers of estimators and max_features\n",
    "for feats in max_feats:\n",
    "    for estimator in estimators:\n",
    "        brf_model = BalancedRandomForestClassifier(n_estimators=estimator, replacement=True, \n",
    "                                                   sampling_strategy='not minority', max_features=feats, random_state=6250)\n",
    "        brf_model.fit(X_train, y_train)\n",
    "        \n",
    "        y_pred = brf_model.predict(X_test)\n",
    "\n",
    "        f1 = f1_score(y_test, y_pred)\n",
    "        accuracy = accuracy_score(y_test, y_pred)\n",
    "\n",
    "        f1s.append(f1)\n",
    "        accuracies.append(accuracy)\n",
    "        \n",
    "        print(f\"Estimators: {estimator} | Max Features: {feats} | Accuracy: {accuracy:.4f} | F1: {f1:.4f}\")\n",
    "\n"
   ]
  },
  {
   "cell_type": "code",
   "execution_count": null,
   "metadata": {},
   "outputs": [],
   "source": [
    "# Plotting  "
   ]
  },
  {
   "cell_type": "markdown",
   "metadata": {},
   "source": [
    "## Clinical BERT "
   ]
  },
  {
   "cell_type": "code",
   "execution_count": null,
   "metadata": {},
   "outputs": [],
   "source": [
    "# pip install accelerate -U\n",
    "# pip install transformers\n",
    "# pip install datasets  \n",
    "\n",
    "from datasets import Dataset\n",
    "from sklearn.model_selection import train_test_split\n",
    "from transformers import AutoTokenizer, AutoModelForSequenceClassification, TrainingArguments, Trainer\n",
    "from sklearn.metrics import accuracy_score, precision_recall_fscore_support, f1_score\n",
    "\n",
    "# https://thepythoncode.com/article/finetuning-bert-using-huggingface-transformers-python\n",
    "\n",
    "def compute_metrics(pred):\n",
    "    labels = pred.label_ids\n",
    "    preds = pred.predictions.argmax(-1)\n",
    "    f1 = f1_score(labels, preds, average='binary')\n",
    "    acc = accuracy_score(labels, preds)\n",
    "    return {\n",
    "        'f1': f1,\n",
    "        'accuracy': acc,\n",
    "    }\n",
    "\n",
    "selection = 'medicalai/ClinicalBERT' \n",
    "tokenizer = AutoTokenizer.from_pretrained(selection)\n",
    "\n",
    "\n",
    "def expand_dataset(df, text_col='TEXT', label_col='READMISSION'):\n",
    "    new_rows = []  # This will hold the new expanded rows\n",
    "    for idx, row in df.iterrows():\n",
    "        # Tokenize the text, check if it's longer than 512 tokens\n",
    "        inputs = tokenizer.encode_plus(row[text_col], add_special_tokens=True, return_tensors='pt')\n",
    "        total_len = len(inputs['input_ids'][0])\n",
    "        \n",
    "        if total_len > 512:\n",
    "            chunk_size = 512 - tokenizer.num_special_tokens_to_add()  # space for [CLS] and [SEP]\n",
    "            start = 0\n",
    "            while start < total_len:\n",
    "                end = start + chunk_size\n",
    "                chunk = inputs['input_ids'][0][start:end]\n",
    "                chunk = tokenizer.build_inputs_with_special_tokens(chunk.tolist())\n",
    "                chunk_text = tokenizer.decode(chunk, clean_up_tokenization_spaces=False)\n",
    "                # add a unique ID corresponding to the unaltered entry for later reference \n",
    "                new_rows.append({'id': idx, text_col: chunk_text, label_col: row[label_col]})\n",
    "                start = end\n",
    "        else:\n",
    "            # If not longer, just add the row as is\n",
    "            new_rows.append(row)\n",
    "    \n",
    "    # Create a new DataFrame from the expanded rows\n",
    "    return pd.DataFrame(new_rows)\n",
    "\n",
    "print(len(hf_readmission_notes_balanced))\n",
    "print(hf_readmission_notes_balanced['READMISSION'].value_counts())\n",
    "hf_readmission_notes_balanced.head()\n",
    "\n",
    "hf_readmission_notes_balanced = expand_dataset(hf_readmission_notes_balanced)\n",
    "\n",
    "# was balance (approximately) maintained after applying the function?\n",
    "print(len(hf_readmission_notes_balanced))\n",
    "print(hf_readmission_notes_balanced['READMISSION'].value_counts())\n",
    "hf_readmission_notes_balanced.head()\n",
    "\n",
    "y = hf_readmission_notes_balanced['READMISSION']\n",
    "train_df, val_df = train_test_split(hf_readmission_notes_balanced, test_size=0.1, random_state=6250, stratify=y)\n",
    "train_dataset = Dataset.from_pandas(train_df)\n",
    "val_dataset = Dataset.from_pandas(val_df)\n",
    "\n",
    "# https://huggingface.co/medicalai/ClinicalBERT\n",
    "# https://huggingface.co/microsoft/BiomedNLP-BiomedBERT-base-uncased-abstract-fulltext \n",
    "# https://huggingface.co/bioformers/bioformer-8L \n",
    "# \n",
    "# medicalai/ClinicalBERT\n",
    "# microsoft/BiomedNLP-BiomedBERT-base-uncased-abstract-fulltext\n",
    "# bioformers/bioformer-8L\n",
    "\n",
    "# also curious to try GPT3 Turbo https://platform.openai.com/docs/guides/fine-tuning/fine-tuning-examples \n",
    "\n",
    "\n",
    "# this one trains the slowest (by an order of magnitude) but is probably the best \n",
    "# selection = 'microsoft/BiomedNLP-BiomedBERT-base-uncased-abstract-fulltext' \n",
    "\n",
    "\n",
    "\n",
    "# Tokenize the datasets\n",
    "def preprocess_function(examples):\n",
    "    # Tokenize the text\n",
    "    tokenized_inputs = tokenizer(examples['TEXT'], truncation=True, padding=\"max_length\", max_length=512)\n",
    "    # Add the labels\n",
    "    tokenized_inputs[\"labels\"] = examples[\"READMISSION\"]\n",
    "    return tokenized_inputs\n",
    "\n",
    "tokenized_train = train_dataset.map(preprocess_function, batched=True)\n",
    "tokenized_val = val_dataset.map(preprocess_function, batched=True)\n",
    "\n",
    "# Load the model\n",
    "model = AutoModelForSequenceClassification.from_pretrained(selection, num_labels=2)\n",
    "\n",
    "\n",
    "\n",
    "training_args = TrainingArguments(\n",
    "    output_dir='./results',\n",
    "    num_train_epochs=3,\n",
    "    per_device_train_batch_size=16,\n",
    "    per_device_eval_batch_size=64,\n",
    "    #warmup_steps=500,\n",
    "    #warmup_steps=60,\n",
    "    warmup_steps=500,\n",
    "    #weight_decay=0.01,\n",
    "    #weight_decay=0.001,\n",
    "    weight_decay=0.01,\n",
    "    #logging_dir='./logs',  \n",
    "    logging_steps=10,\n",
    "    save_strategy='steps',  \n",
    "    save_steps=500,  \n",
    "    evaluation_strategy=\"steps\",  \n",
    "    eval_steps=500, \n",
    "    save_total_limit=1,  # save only best (these checkpoints are 1GB+)\n",
    "    load_best_model_at_end=True, \n",
    "    metric_for_best_model='eval_loss',  \n",
    ")\n",
    "\n",
    "\n",
    "# Initialize the Trainer\n",
    "trainer = Trainer(\n",
    "    model=model,\n",
    "    args=training_args,\n",
    "    train_dataset=tokenized_train,\n",
    "    eval_dataset=tokenized_val,\n",
    "    compute_metrics=compute_metrics\n",
    ")\n",
    "\n",
    "\n",
    "trainer.train()\n",
    "results = trainer.evaluate()\n",
    "print(results)\n",
    "model.save_pretrained('./results')\n",
    "predictions = trainer.predict(tokenized_val)\n",
    "labels = predictions.label_ids\n",
    "preds = predictions.predictions.argmax(-1)\n",
    "accuracy = accuracy_score(labels, preds)\n",
    "precision, recall, f1, _ = precision_recall_fscore_support(labels, preds, average='binary')\n",
    "print(f\"Accuracy: {accuracy}\")\n",
    "print(f\"Precision: {precision}\")\n",
    "print(f\"Recall: {recall}\")\n",
    "print(f\"F1 Score: {f1}\")"
   ]
  },
  {
   "cell_type": "code",
   "execution_count": null,
   "metadata": {},
   "outputs": [],
   "source": [
    "# Plotting  "
   ]
  },
  {
   "cell_type": "markdown",
   "metadata": {},
   "source": [
    "## Microsoft's PubMED BERT"
   ]
  },
  {
   "cell_type": "code",
   "execution_count": null,
   "metadata": {},
   "outputs": [],
   "source": [
    "# Plotting  "
   ]
  }
 ],
 "metadata": {
  "kernelspec": {
   "display_name": "bd4h-final-proj-kern",
   "language": "python",
   "name": "bd4h-final-proj-kern"
  },
  "language_info": {
   "codemirror_mode": {
    "name": "ipython",
    "version": 3
   },
   "file_extension": ".py",
   "mimetype": "text/x-python",
   "name": "python",
   "nbconvert_exporter": "python",
   "pygments_lexer": "ipython3",
   "version": "3.11.6"
  }
 },
 "nbformat": 4,
 "nbformat_minor": 2
}
